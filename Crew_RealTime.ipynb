{
  "nbformat": 4,
  "nbformat_minor": 0,
  "metadata": {
    "colab": {
      "provenance": [],
      "gpuType": "T4"
    },
    "kernelspec": {
      "name": "python3",
      "display_name": "Python 3"
    },
    "language_info": {
      "name": "python"
    },
    "accelerator": "GPU"
  },
  "cells": [
    {
      "cell_type": "code",
      "execution_count": 1,
      "metadata": {
        "colab": {
          "base_uri": "https://localhost:8080/",
          "height": 1000
        },
        "collapsed": true,
        "id": "SmnuqcwkA7jd",
        "outputId": "c320b5fc-091d-44cb-9fe5-38936e269322"
      },
      "outputs": [
        {
          "output_type": "stream",
          "name": "stdout",
          "text": [
            "Collecting crewai\n",
            "  Downloading crewai-0.121.0-py3-none-any.whl.metadata (33 kB)\n",
            "Collecting appdirs>=1.4.4 (from crewai)\n",
            "  Downloading appdirs-1.4.4-py2.py3-none-any.whl.metadata (9.0 kB)\n",
            "Collecting auth0-python>=4.7.1 (from crewai)\n",
            "  Downloading auth0_python-4.9.0-py3-none-any.whl.metadata (9.0 kB)\n",
            "Requirement already satisfied: blinker>=1.9.0 in /usr/local/lib/python3.11/dist-packages (from crewai) (1.9.0)\n",
            "Collecting chromadb>=0.5.23 (from crewai)\n",
            "  Downloading chromadb-1.0.10-cp39-abi3-manylinux_2_17_x86_64.manylinux2014_x86_64.whl.metadata (6.9 kB)\n",
            "Requirement already satisfied: click>=8.1.7 in /usr/local/lib/python3.11/dist-packages (from crewai) (8.2.0)\n",
            "Collecting instructor>=1.3.3 (from crewai)\n",
            "  Downloading instructor-1.8.3-py3-none-any.whl.metadata (24 kB)\n",
            "Collecting json-repair>=0.25.2 (from crewai)\n",
            "  Downloading json_repair-0.46.0-py3-none-any.whl.metadata (12 kB)\n",
            "Collecting json5>=0.10.0 (from crewai)\n",
            "  Downloading json5-0.12.0-py3-none-any.whl.metadata (36 kB)\n",
            "Collecting jsonref>=1.1.0 (from crewai)\n",
            "  Downloading jsonref-1.1.0-py3-none-any.whl.metadata (2.7 kB)\n",
            "Collecting litellm==1.68.0 (from crewai)\n",
            "  Downloading litellm-1.68.0-py3-none-any.whl.metadata (36 kB)\n",
            "Requirement already satisfied: openai>=1.13.3 in /usr/local/lib/python3.11/dist-packages (from crewai) (1.78.1)\n",
            "Requirement already satisfied: openpyxl>=3.1.5 in /usr/local/lib/python3.11/dist-packages (from crewai) (3.1.5)\n",
            "Collecting opentelemetry-api>=1.30.0 (from crewai)\n",
            "  Downloading opentelemetry_api-1.33.1-py3-none-any.whl.metadata (1.6 kB)\n",
            "Collecting opentelemetry-exporter-otlp-proto-http>=1.30.0 (from crewai)\n",
            "  Downloading opentelemetry_exporter_otlp_proto_http-1.33.1-py3-none-any.whl.metadata (2.4 kB)\n",
            "Collecting opentelemetry-sdk>=1.30.0 (from crewai)\n",
            "  Downloading opentelemetry_sdk-1.33.1-py3-none-any.whl.metadata (1.6 kB)\n",
            "Collecting pdfplumber>=0.11.4 (from crewai)\n",
            "  Downloading pdfplumber-0.11.6-py3-none-any.whl.metadata (42 kB)\n",
            "\u001b[2K     \u001b[90m━━━━━━━━━━━━━━━━━━━━━━━━━━━━━━━━━━━━━━━━\u001b[0m \u001b[32m42.8/42.8 kB\u001b[0m \u001b[31m3.7 MB/s\u001b[0m eta \u001b[36m0:00:00\u001b[0m\n",
            "\u001b[?25hRequirement already satisfied: pydantic>=2.4.2 in /usr/local/lib/python3.11/dist-packages (from crewai) (2.11.4)\n",
            "Collecting python-dotenv>=1.0.0 (from crewai)\n",
            "  Downloading python_dotenv-1.1.0-py3-none-any.whl.metadata (24 kB)\n",
            "Collecting pyvis>=0.3.2 (from crewai)\n",
            "  Downloading pyvis-0.3.2-py3-none-any.whl.metadata (1.7 kB)\n",
            "Requirement already satisfied: regex>=2024.9.11 in /usr/local/lib/python3.11/dist-packages (from crewai) (2024.11.6)\n",
            "Collecting tomli-w>=1.1.0 (from crewai)\n",
            "  Downloading tomli_w-1.2.0-py3-none-any.whl.metadata (5.7 kB)\n",
            "Collecting tomli>=2.0.2 (from crewai)\n",
            "  Downloading tomli-2.2.1-cp311-cp311-manylinux_2_17_x86_64.manylinux2014_x86_64.whl.metadata (11 kB)\n",
            "Collecting uv>=0.4.25 (from crewai)\n",
            "  Downloading uv-0.7.8-py3-none-manylinux_2_17_x86_64.manylinux2014_x86_64.whl.metadata (11 kB)\n",
            "Requirement already satisfied: aiohttp in /usr/local/lib/python3.11/dist-packages (from litellm==1.68.0->crewai) (3.11.15)\n",
            "Requirement already satisfied: httpx>=0.23.0 in /usr/local/lib/python3.11/dist-packages (from litellm==1.68.0->crewai) (0.28.1)\n",
            "Requirement already satisfied: importlib-metadata>=6.8.0 in /usr/local/lib/python3.11/dist-packages (from litellm==1.68.0->crewai) (8.7.0)\n",
            "Requirement already satisfied: jinja2<4.0.0,>=3.1.2 in /usr/local/lib/python3.11/dist-packages (from litellm==1.68.0->crewai) (3.1.6)\n",
            "Requirement already satisfied: jsonschema<5.0.0,>=4.22.0 in /usr/local/lib/python3.11/dist-packages (from litellm==1.68.0->crewai) (4.23.0)\n",
            "Collecting openai>=1.13.3 (from crewai)\n",
            "  Downloading openai-1.75.0-py3-none-any.whl.metadata (25 kB)\n",
            "Requirement already satisfied: tiktoken>=0.7.0 in /usr/local/lib/python3.11/dist-packages (from litellm==1.68.0->crewai) (0.9.0)\n",
            "Requirement already satisfied: tokenizers in /usr/local/lib/python3.11/dist-packages (from litellm==1.68.0->crewai) (0.21.1)\n",
            "Requirement already satisfied: cryptography>=43.0.1 in /usr/local/lib/python3.11/dist-packages (from auth0-python>=4.7.1->crewai) (43.0.3)\n",
            "Requirement already satisfied: pyjwt>=2.8.0 in /usr/local/lib/python3.11/dist-packages (from auth0-python>=4.7.1->crewai) (2.10.1)\n",
            "Requirement already satisfied: requests>=2.32.3 in /usr/local/lib/python3.11/dist-packages (from auth0-python>=4.7.1->crewai) (2.32.3)\n",
            "Requirement already satisfied: urllib3>=2.2.3 in /usr/local/lib/python3.11/dist-packages (from auth0-python>=4.7.1->crewai) (2.4.0)\n",
            "Requirement already satisfied: build>=1.0.3 in /usr/local/lib/python3.11/dist-packages (from chromadb>=0.5.23->crewai) (1.2.2.post1)\n",
            "Collecting fastapi==0.115.9 (from chromadb>=0.5.23->crewai)\n",
            "  Downloading fastapi-0.115.9-py3-none-any.whl.metadata (27 kB)\n",
            "Collecting uvicorn>=0.18.3 (from uvicorn[standard]>=0.18.3->chromadb>=0.5.23->crewai)\n",
            "  Downloading uvicorn-0.34.2-py3-none-any.whl.metadata (6.5 kB)\n",
            "Requirement already satisfied: numpy>=1.22.5 in /usr/local/lib/python3.11/dist-packages (from chromadb>=0.5.23->crewai) (2.0.2)\n",
            "Collecting posthog>=2.4.0 (from chromadb>=0.5.23->crewai)\n",
            "  Downloading posthog-4.2.0-py2.py3-none-any.whl.metadata (3.0 kB)\n",
            "Requirement already satisfied: typing-extensions>=4.5.0 in /usr/local/lib/python3.11/dist-packages (from chromadb>=0.5.23->crewai) (4.13.2)\n",
            "Collecting onnxruntime>=1.14.1 (from chromadb>=0.5.23->crewai)\n",
            "  Downloading onnxruntime-1.22.0-cp311-cp311-manylinux_2_27_x86_64.manylinux_2_28_x86_64.whl.metadata (4.5 kB)\n",
            "Collecting opentelemetry-exporter-otlp-proto-grpc>=1.2.0 (from chromadb>=0.5.23->crewai)\n",
            "  Downloading opentelemetry_exporter_otlp_proto_grpc-1.33.1-py3-none-any.whl.metadata (2.5 kB)\n",
            "Collecting opentelemetry-instrumentation-fastapi>=0.41b0 (from chromadb>=0.5.23->crewai)\n",
            "  Downloading opentelemetry_instrumentation_fastapi-0.54b1-py3-none-any.whl.metadata (2.2 kB)\n",
            "Collecting pypika>=0.48.9 (from chromadb>=0.5.23->crewai)\n",
            "  Downloading PyPika-0.48.9.tar.gz (67 kB)\n",
            "\u001b[2K     \u001b[90m━━━━━━━━━━━━━━━━━━━━━━━━━━━━━━━━━━━━━━━━\u001b[0m \u001b[32m67.3/67.3 kB\u001b[0m \u001b[31m7.7 MB/s\u001b[0m eta \u001b[36m0:00:00\u001b[0m\n",
            "\u001b[?25h  Installing build dependencies ... \u001b[?25l\u001b[?25hdone\n",
            "  Getting requirements to build wheel ... \u001b[?25l\u001b[?25hdone\n",
            "  Preparing metadata (pyproject.toml) ... \u001b[?25l\u001b[?25hdone\n",
            "Requirement already satisfied: tqdm>=4.65.0 in /usr/local/lib/python3.11/dist-packages (from chromadb>=0.5.23->crewai) (4.67.1)\n",
            "Collecting overrides>=7.3.1 (from chromadb>=0.5.23->crewai)\n",
            "  Downloading overrides-7.7.0-py3-none-any.whl.metadata (5.8 kB)\n",
            "Requirement already satisfied: importlib-resources in /usr/local/lib/python3.11/dist-packages (from chromadb>=0.5.23->crewai) (6.5.2)\n",
            "Requirement already satisfied: grpcio>=1.58.0 in /usr/local/lib/python3.11/dist-packages (from chromadb>=0.5.23->crewai) (1.71.0)\n",
            "Collecting bcrypt>=4.0.1 (from chromadb>=0.5.23->crewai)\n",
            "  Downloading bcrypt-4.3.0-cp39-abi3-manylinux_2_34_x86_64.whl.metadata (10 kB)\n",
            "Requirement already satisfied: typer>=0.9.0 in /usr/local/lib/python3.11/dist-packages (from chromadb>=0.5.23->crewai) (0.15.3)\n",
            "Collecting kubernetes>=28.1.0 (from chromadb>=0.5.23->crewai)\n",
            "  Downloading kubernetes-32.0.1-py2.py3-none-any.whl.metadata (1.7 kB)\n",
            "Requirement already satisfied: tenacity>=8.2.3 in /usr/local/lib/python3.11/dist-packages (from chromadb>=0.5.23->crewai) (9.1.2)\n",
            "Requirement already satisfied: pyyaml>=6.0.0 in /usr/local/lib/python3.11/dist-packages (from chromadb>=0.5.23->crewai) (6.0.2)\n",
            "Collecting mmh3>=4.0.1 (from chromadb>=0.5.23->crewai)\n",
            "  Downloading mmh3-5.1.0-cp311-cp311-manylinux_2_5_x86_64.manylinux1_x86_64.manylinux_2_17_x86_64.manylinux2014_x86_64.whl.metadata (16 kB)\n",
            "Requirement already satisfied: orjson>=3.9.12 in /usr/local/lib/python3.11/dist-packages (from chromadb>=0.5.23->crewai) (3.10.18)\n",
            "Requirement already satisfied: rich>=10.11.0 in /usr/local/lib/python3.11/dist-packages (from chromadb>=0.5.23->crewai) (13.9.4)\n",
            "Collecting starlette<0.46.0,>=0.40.0 (from fastapi==0.115.9->chromadb>=0.5.23->crewai)\n",
            "  Downloading starlette-0.45.3-py3-none-any.whl.metadata (6.3 kB)\n",
            "Requirement already satisfied: docstring-parser<1.0,>=0.16 in /usr/local/lib/python3.11/dist-packages (from instructor>=1.3.3->crewai) (0.16)\n",
            "Collecting jiter<0.9,>=0.6.1 (from instructor>=1.3.3->crewai)\n",
            "  Downloading jiter-0.8.2-cp311-cp311-manylinux_2_17_x86_64.manylinux2014_x86_64.whl.metadata (5.2 kB)\n",
            "Requirement already satisfied: pydantic-core<3.0.0,>=2.18.0 in /usr/local/lib/python3.11/dist-packages (from instructor>=1.3.3->crewai) (2.33.2)\n",
            "Requirement already satisfied: anyio<5,>=3.5.0 in /usr/local/lib/python3.11/dist-packages (from openai>=1.13.3->crewai) (4.9.0)\n",
            "Requirement already satisfied: distro<2,>=1.7.0 in /usr/local/lib/python3.11/dist-packages (from openai>=1.13.3->crewai) (1.9.0)\n",
            "Requirement already satisfied: sniffio in /usr/local/lib/python3.11/dist-packages (from openai>=1.13.3->crewai) (1.3.1)\n",
            "Requirement already satisfied: et-xmlfile in /usr/local/lib/python3.11/dist-packages (from openpyxl>=3.1.5->crewai) (2.0.0)\n",
            "Collecting deprecated>=1.2.6 (from opentelemetry-api>=1.30.0->crewai)\n",
            "  Downloading Deprecated-1.2.18-py2.py3-none-any.whl.metadata (5.7 kB)\n",
            "Collecting importlib-metadata>=6.8.0 (from litellm==1.68.0->crewai)\n",
            "  Downloading importlib_metadata-8.6.1-py3-none-any.whl.metadata (4.7 kB)\n",
            "Requirement already satisfied: googleapis-common-protos~=1.52 in /usr/local/lib/python3.11/dist-packages (from opentelemetry-exporter-otlp-proto-http>=1.30.0->crewai) (1.70.0)\n",
            "Collecting opentelemetry-exporter-otlp-proto-common==1.33.1 (from opentelemetry-exporter-otlp-proto-http>=1.30.0->crewai)\n",
            "  Downloading opentelemetry_exporter_otlp_proto_common-1.33.1-py3-none-any.whl.metadata (1.9 kB)\n",
            "Collecting opentelemetry-proto==1.33.1 (from opentelemetry-exporter-otlp-proto-http>=1.30.0->crewai)\n",
            "  Downloading opentelemetry_proto-1.33.1-py3-none-any.whl.metadata (2.4 kB)\n",
            "Requirement already satisfied: protobuf<6.0,>=5.0 in /usr/local/lib/python3.11/dist-packages (from opentelemetry-proto==1.33.1->opentelemetry-exporter-otlp-proto-http>=1.30.0->crewai) (5.29.4)\n",
            "Collecting opentelemetry-semantic-conventions==0.54b1 (from opentelemetry-sdk>=1.30.0->crewai)\n",
            "  Downloading opentelemetry_semantic_conventions-0.54b1-py3-none-any.whl.metadata (2.5 kB)\n",
            "Collecting pdfminer.six==20250327 (from pdfplumber>=0.11.4->crewai)\n",
            "  Downloading pdfminer_six-20250327-py3-none-any.whl.metadata (4.1 kB)\n",
            "Requirement already satisfied: Pillow>=9.1 in /usr/local/lib/python3.11/dist-packages (from pdfplumber>=0.11.4->crewai) (11.2.1)\n",
            "Collecting pypdfium2>=4.18.0 (from pdfplumber>=0.11.4->crewai)\n",
            "  Downloading pypdfium2-4.30.1-py3-none-manylinux_2_17_x86_64.manylinux2014_x86_64.whl.metadata (48 kB)\n",
            "\u001b[2K     \u001b[90m━━━━━━━━━━━━━━━━━━━━━━━━━━━━━━━━━━━━━━━━\u001b[0m \u001b[32m48.2/48.2 kB\u001b[0m \u001b[31m4.9 MB/s\u001b[0m eta \u001b[36m0:00:00\u001b[0m\n",
            "\u001b[?25hRequirement already satisfied: charset-normalizer>=2.0.0 in /usr/local/lib/python3.11/dist-packages (from pdfminer.six==20250327->pdfplumber>=0.11.4->crewai) (3.4.2)\n",
            "Requirement already satisfied: annotated-types>=0.6.0 in /usr/local/lib/python3.11/dist-packages (from pydantic>=2.4.2->crewai) (0.7.0)\n",
            "Requirement already satisfied: typing-inspection>=0.4.0 in /usr/local/lib/python3.11/dist-packages (from pydantic>=2.4.2->crewai) (0.4.0)\n",
            "Requirement already satisfied: ipython>=5.3.0 in /usr/local/lib/python3.11/dist-packages (from pyvis>=0.3.2->crewai) (7.34.0)\n",
            "Requirement already satisfied: jsonpickle>=1.4.1 in /usr/local/lib/python3.11/dist-packages (from pyvis>=0.3.2->crewai) (4.0.5)\n",
            "Requirement already satisfied: networkx>=1.11 in /usr/local/lib/python3.11/dist-packages (from pyvis>=0.3.2->crewai) (3.4.2)\n",
            "Requirement already satisfied: aiohappyeyeballs>=2.3.0 in /usr/local/lib/python3.11/dist-packages (from aiohttp->litellm==1.68.0->crewai) (2.6.1)\n",
            "Requirement already satisfied: aiosignal>=1.1.2 in /usr/local/lib/python3.11/dist-packages (from aiohttp->litellm==1.68.0->crewai) (1.3.2)\n",
            "Requirement already satisfied: attrs>=17.3.0 in /usr/local/lib/python3.11/dist-packages (from aiohttp->litellm==1.68.0->crewai) (25.3.0)\n",
            "Requirement already satisfied: frozenlist>=1.1.1 in /usr/local/lib/python3.11/dist-packages (from aiohttp->litellm==1.68.0->crewai) (1.6.0)\n",
            "Requirement already satisfied: multidict<7.0,>=4.5 in /usr/local/lib/python3.11/dist-packages (from aiohttp->litellm==1.68.0->crewai) (6.4.3)\n",
            "Requirement already satisfied: propcache>=0.2.0 in /usr/local/lib/python3.11/dist-packages (from aiohttp->litellm==1.68.0->crewai) (0.3.1)\n",
            "Requirement already satisfied: yarl<2.0,>=1.17.0 in /usr/local/lib/python3.11/dist-packages (from aiohttp->litellm==1.68.0->crewai) (1.20.0)\n",
            "Requirement already satisfied: idna>=2.8 in /usr/local/lib/python3.11/dist-packages (from anyio<5,>=3.5.0->openai>=1.13.3->crewai) (3.10)\n",
            "Requirement already satisfied: packaging>=19.1 in /usr/local/lib/python3.11/dist-packages (from build>=1.0.3->chromadb>=0.5.23->crewai) (24.2)\n",
            "Requirement already satisfied: pyproject_hooks in /usr/local/lib/python3.11/dist-packages (from build>=1.0.3->chromadb>=0.5.23->crewai) (1.2.0)\n",
            "Requirement already satisfied: cffi>=1.12 in /usr/local/lib/python3.11/dist-packages (from cryptography>=43.0.1->auth0-python>=4.7.1->crewai) (1.17.1)\n",
            "Requirement already satisfied: wrapt<2,>=1.10 in /usr/local/lib/python3.11/dist-packages (from deprecated>=1.2.6->opentelemetry-api>=1.30.0->crewai) (1.17.2)\n",
            "Requirement already satisfied: certifi in /usr/local/lib/python3.11/dist-packages (from httpx>=0.23.0->litellm==1.68.0->crewai) (2025.4.26)\n",
            "Requirement already satisfied: httpcore==1.* in /usr/local/lib/python3.11/dist-packages (from httpx>=0.23.0->litellm==1.68.0->crewai) (1.0.9)\n",
            "Requirement already satisfied: h11>=0.16 in /usr/local/lib/python3.11/dist-packages (from httpcore==1.*->httpx>=0.23.0->litellm==1.68.0->crewai) (0.16.0)\n",
            "Requirement already satisfied: zipp>=3.20 in /usr/local/lib/python3.11/dist-packages (from importlib-metadata>=6.8.0->litellm==1.68.0->crewai) (3.21.0)\n",
            "Requirement already satisfied: setuptools>=18.5 in /usr/local/lib/python3.11/dist-packages (from ipython>=5.3.0->pyvis>=0.3.2->crewai) (75.2.0)\n",
            "Collecting jedi>=0.16 (from ipython>=5.3.0->pyvis>=0.3.2->crewai)\n",
            "  Downloading jedi-0.19.2-py2.py3-none-any.whl.metadata (22 kB)\n",
            "Requirement already satisfied: decorator in /usr/local/lib/python3.11/dist-packages (from ipython>=5.3.0->pyvis>=0.3.2->crewai) (4.4.2)\n",
            "Requirement already satisfied: pickleshare in /usr/local/lib/python3.11/dist-packages (from ipython>=5.3.0->pyvis>=0.3.2->crewai) (0.7.5)\n",
            "Requirement already satisfied: traitlets>=4.2 in /usr/local/lib/python3.11/dist-packages (from ipython>=5.3.0->pyvis>=0.3.2->crewai) (5.7.1)\n",
            "Requirement already satisfied: prompt-toolkit!=3.0.0,!=3.0.1,<3.1.0,>=2.0.0 in /usr/local/lib/python3.11/dist-packages (from ipython>=5.3.0->pyvis>=0.3.2->crewai) (3.0.51)\n",
            "Requirement already satisfied: pygments in /usr/local/lib/python3.11/dist-packages (from ipython>=5.3.0->pyvis>=0.3.2->crewai) (2.19.1)\n",
            "Requirement already satisfied: backcall in /usr/local/lib/python3.11/dist-packages (from ipython>=5.3.0->pyvis>=0.3.2->crewai) (0.2.0)\n",
            "Requirement already satisfied: matplotlib-inline in /usr/local/lib/python3.11/dist-packages (from ipython>=5.3.0->pyvis>=0.3.2->crewai) (0.1.7)\n",
            "Requirement already satisfied: pexpect>4.3 in /usr/local/lib/python3.11/dist-packages (from ipython>=5.3.0->pyvis>=0.3.2->crewai) (4.9.0)\n",
            "Requirement already satisfied: MarkupSafe>=2.0 in /usr/local/lib/python3.11/dist-packages (from jinja2<4.0.0,>=3.1.2->litellm==1.68.0->crewai) (3.0.2)\n",
            "Requirement already satisfied: jsonschema-specifications>=2023.03.6 in /usr/local/lib/python3.11/dist-packages (from jsonschema<5.0.0,>=4.22.0->litellm==1.68.0->crewai) (2025.4.1)\n",
            "Requirement already satisfied: referencing>=0.28.4 in /usr/local/lib/python3.11/dist-packages (from jsonschema<5.0.0,>=4.22.0->litellm==1.68.0->crewai) (0.36.2)\n",
            "Requirement already satisfied: rpds-py>=0.7.1 in /usr/local/lib/python3.11/dist-packages (from jsonschema<5.0.0,>=4.22.0->litellm==1.68.0->crewai) (0.24.0)\n",
            "Requirement already satisfied: six>=1.9.0 in /usr/local/lib/python3.11/dist-packages (from kubernetes>=28.1.0->chromadb>=0.5.23->crewai) (1.17.0)\n",
            "Requirement already satisfied: python-dateutil>=2.5.3 in /usr/local/lib/python3.11/dist-packages (from kubernetes>=28.1.0->chromadb>=0.5.23->crewai) (2.9.0.post0)\n",
            "Requirement already satisfied: google-auth>=1.0.1 in /usr/local/lib/python3.11/dist-packages (from kubernetes>=28.1.0->chromadb>=0.5.23->crewai) (2.38.0)\n",
            "Requirement already satisfied: websocket-client!=0.40.0,!=0.41.*,!=0.42.*,>=0.32.0 in /usr/local/lib/python3.11/dist-packages (from kubernetes>=28.1.0->chromadb>=0.5.23->crewai) (1.8.0)\n",
            "Requirement already satisfied: requests-oauthlib in /usr/local/lib/python3.11/dist-packages (from kubernetes>=28.1.0->chromadb>=0.5.23->crewai) (2.0.0)\n",
            "Requirement already satisfied: oauthlib>=3.2.2 in /usr/local/lib/python3.11/dist-packages (from kubernetes>=28.1.0->chromadb>=0.5.23->crewai) (3.2.2)\n",
            "Collecting durationpy>=0.7 (from kubernetes>=28.1.0->chromadb>=0.5.23->crewai)\n",
            "  Downloading durationpy-0.10-py3-none-any.whl.metadata (340 bytes)\n",
            "Collecting coloredlogs (from onnxruntime>=1.14.1->chromadb>=0.5.23->crewai)\n",
            "  Downloading coloredlogs-15.0.1-py2.py3-none-any.whl.metadata (12 kB)\n",
            "Requirement already satisfied: flatbuffers in /usr/local/lib/python3.11/dist-packages (from onnxruntime>=1.14.1->chromadb>=0.5.23->crewai) (25.2.10)\n",
            "Requirement already satisfied: sympy in /usr/local/lib/python3.11/dist-packages (from onnxruntime>=1.14.1->chromadb>=0.5.23->crewai) (1.13.1)\n",
            "Collecting opentelemetry-instrumentation-asgi==0.54b1 (from opentelemetry-instrumentation-fastapi>=0.41b0->chromadb>=0.5.23->crewai)\n",
            "  Downloading opentelemetry_instrumentation_asgi-0.54b1-py3-none-any.whl.metadata (2.1 kB)\n",
            "Collecting opentelemetry-instrumentation==0.54b1 (from opentelemetry-instrumentation-fastapi>=0.41b0->chromadb>=0.5.23->crewai)\n",
            "  Downloading opentelemetry_instrumentation-0.54b1-py3-none-any.whl.metadata (6.8 kB)\n",
            "Collecting opentelemetry-util-http==0.54b1 (from opentelemetry-instrumentation-fastapi>=0.41b0->chromadb>=0.5.23->crewai)\n",
            "  Downloading opentelemetry_util_http-0.54b1-py3-none-any.whl.metadata (2.6 kB)\n",
            "Collecting asgiref~=3.0 (from opentelemetry-instrumentation-asgi==0.54b1->opentelemetry-instrumentation-fastapi>=0.41b0->chromadb>=0.5.23->crewai)\n",
            "  Downloading asgiref-3.8.1-py3-none-any.whl.metadata (9.3 kB)\n",
            "Collecting backoff>=1.10.0 (from posthog>=2.4.0->chromadb>=0.5.23->crewai)\n",
            "  Downloading backoff-2.2.1-py3-none-any.whl.metadata (14 kB)\n",
            "Requirement already satisfied: markdown-it-py>=2.2.0 in /usr/local/lib/python3.11/dist-packages (from rich>=10.11.0->chromadb>=0.5.23->crewai) (3.0.0)\n",
            "Requirement already satisfied: huggingface-hub<1.0,>=0.16.4 in /usr/local/lib/python3.11/dist-packages (from tokenizers->litellm==1.68.0->crewai) (0.31.2)\n",
            "Requirement already satisfied: shellingham>=1.3.0 in /usr/local/lib/python3.11/dist-packages (from typer>=0.9.0->chromadb>=0.5.23->crewai) (1.5.4)\n",
            "Collecting httptools>=0.6.3 (from uvicorn[standard]>=0.18.3->chromadb>=0.5.23->crewai)\n",
            "  Downloading httptools-0.6.4-cp311-cp311-manylinux_2_5_x86_64.manylinux1_x86_64.manylinux_2_17_x86_64.manylinux2014_x86_64.whl.metadata (3.6 kB)\n",
            "Collecting uvloop!=0.15.0,!=0.15.1,>=0.14.0 (from uvicorn[standard]>=0.18.3->chromadb>=0.5.23->crewai)\n",
            "  Downloading uvloop-0.21.0-cp311-cp311-manylinux_2_17_x86_64.manylinux2014_x86_64.whl.metadata (4.9 kB)\n",
            "Collecting watchfiles>=0.13 (from uvicorn[standard]>=0.18.3->chromadb>=0.5.23->crewai)\n",
            "  Downloading watchfiles-1.0.5-cp311-cp311-manylinux_2_17_x86_64.manylinux2014_x86_64.whl.metadata (4.9 kB)\n",
            "Requirement already satisfied: websockets>=10.4 in /usr/local/lib/python3.11/dist-packages (from uvicorn[standard]>=0.18.3->chromadb>=0.5.23->crewai) (15.0.1)\n",
            "Requirement already satisfied: pycparser in /usr/local/lib/python3.11/dist-packages (from cffi>=1.12->cryptography>=43.0.1->auth0-python>=4.7.1->crewai) (2.22)\n",
            "Requirement already satisfied: cachetools<6.0,>=2.0.0 in /usr/local/lib/python3.11/dist-packages (from google-auth>=1.0.1->kubernetes>=28.1.0->chromadb>=0.5.23->crewai) (5.5.2)\n",
            "Requirement already satisfied: pyasn1-modules>=0.2.1 in /usr/local/lib/python3.11/dist-packages (from google-auth>=1.0.1->kubernetes>=28.1.0->chromadb>=0.5.23->crewai) (0.4.2)\n",
            "Requirement already satisfied: rsa<5,>=3.1.4 in /usr/local/lib/python3.11/dist-packages (from google-auth>=1.0.1->kubernetes>=28.1.0->chromadb>=0.5.23->crewai) (4.9.1)\n",
            "Requirement already satisfied: filelock in /usr/local/lib/python3.11/dist-packages (from huggingface-hub<1.0,>=0.16.4->tokenizers->litellm==1.68.0->crewai) (3.18.0)\n",
            "Requirement already satisfied: fsspec>=2023.5.0 in /usr/local/lib/python3.11/dist-packages (from huggingface-hub<1.0,>=0.16.4->tokenizers->litellm==1.68.0->crewai) (2025.3.2)\n",
            "Requirement already satisfied: parso<0.9.0,>=0.8.4 in /usr/local/lib/python3.11/dist-packages (from jedi>=0.16->ipython>=5.3.0->pyvis>=0.3.2->crewai) (0.8.4)\n",
            "Requirement already satisfied: mdurl~=0.1 in /usr/local/lib/python3.11/dist-packages (from markdown-it-py>=2.2.0->rich>=10.11.0->chromadb>=0.5.23->crewai) (0.1.2)\n",
            "Requirement already satisfied: ptyprocess>=0.5 in /usr/local/lib/python3.11/dist-packages (from pexpect>4.3->ipython>=5.3.0->pyvis>=0.3.2->crewai) (0.7.0)\n",
            "Requirement already satisfied: wcwidth in /usr/local/lib/python3.11/dist-packages (from prompt-toolkit!=3.0.0,!=3.0.1,<3.1.0,>=2.0.0->ipython>=5.3.0->pyvis>=0.3.2->crewai) (0.2.13)\n",
            "Collecting humanfriendly>=9.1 (from coloredlogs->onnxruntime>=1.14.1->chromadb>=0.5.23->crewai)\n",
            "  Downloading humanfriendly-10.0-py2.py3-none-any.whl.metadata (9.2 kB)\n",
            "Requirement already satisfied: mpmath<1.4,>=1.1.0 in /usr/local/lib/python3.11/dist-packages (from sympy->onnxruntime>=1.14.1->chromadb>=0.5.23->crewai) (1.3.0)\n",
            "Requirement already satisfied: pyasn1<0.7.0,>=0.6.1 in /usr/local/lib/python3.11/dist-packages (from pyasn1-modules>=0.2.1->google-auth>=1.0.1->kubernetes>=28.1.0->chromadb>=0.5.23->crewai) (0.6.1)\n",
            "Downloading crewai-0.121.0-py3-none-any.whl (318 kB)\n",
            "\u001b[2K   \u001b[90m━━━━━━━━━━━━━━━━━━━━━━━━━━━━━━━━━━━━━━━━\u001b[0m \u001b[32m318.6/318.6 kB\u001b[0m \u001b[31m22.3 MB/s\u001b[0m eta \u001b[36m0:00:00\u001b[0m\n",
            "\u001b[?25hDownloading litellm-1.68.0-py3-none-any.whl (7.7 MB)\n",
            "\u001b[2K   \u001b[90m━━━━━━━━━━━━━━━━━━━━━━━━━━━━━━━━━━━━━━━━\u001b[0m \u001b[32m7.7/7.7 MB\u001b[0m \u001b[31m98.7 MB/s\u001b[0m eta \u001b[36m0:00:00\u001b[0m\n",
            "\u001b[?25hDownloading appdirs-1.4.4-py2.py3-none-any.whl (9.6 kB)\n",
            "Downloading auth0_python-4.9.0-py3-none-any.whl (135 kB)\n",
            "\u001b[2K   \u001b[90m━━━━━━━━━━━━━━━━━━━━━━━━━━━━━━━━━━━━━━━━\u001b[0m \u001b[32m135.3/135.3 kB\u001b[0m \u001b[31m13.2 MB/s\u001b[0m eta \u001b[36m0:00:00\u001b[0m\n",
            "\u001b[?25hDownloading chromadb-1.0.10-cp39-abi3-manylinux_2_17_x86_64.manylinux2014_x86_64.whl (19.0 MB)\n",
            "\u001b[2K   \u001b[90m━━━━━━━━━━━━━━━━━━━━━━━━━━━━━━━━━━━━━━━━\u001b[0m \u001b[32m19.0/19.0 MB\u001b[0m \u001b[31m110.1 MB/s\u001b[0m eta \u001b[36m0:00:00\u001b[0m\n",
            "\u001b[?25hDownloading fastapi-0.115.9-py3-none-any.whl (94 kB)\n",
            "\u001b[2K   \u001b[90m━━━━━━━━━━━━━━━━━━━━━━━━━━━━━━━━━━━━━━━━\u001b[0m \u001b[32m94.9/94.9 kB\u001b[0m \u001b[31m8.9 MB/s\u001b[0m eta \u001b[36m0:00:00\u001b[0m\n",
            "\u001b[?25hDownloading instructor-1.8.3-py3-none-any.whl (94 kB)\n",
            "\u001b[2K   \u001b[90m━━━━━━━━━━━━━━━━━━━━━━━━━━━━━━━━━━━━━━━━\u001b[0m \u001b[32m94.6/94.6 kB\u001b[0m \u001b[31m8.7 MB/s\u001b[0m eta \u001b[36m0:00:00\u001b[0m\n",
            "\u001b[?25hDownloading json_repair-0.46.0-py3-none-any.whl (22 kB)\n",
            "Downloading json5-0.12.0-py3-none-any.whl (36 kB)\n",
            "Downloading jsonref-1.1.0-py3-none-any.whl (9.4 kB)\n",
            "Downloading openai-1.75.0-py3-none-any.whl (646 kB)\n",
            "\u001b[2K   \u001b[90m━━━━━━━━━━━━━━━━━━━━━━━━━━━━━━━━━━━━━━━━\u001b[0m \u001b[32m647.0/647.0 kB\u001b[0m \u001b[31m39.8 MB/s\u001b[0m eta \u001b[36m0:00:00\u001b[0m\n",
            "\u001b[?25hDownloading opentelemetry_api-1.33.1-py3-none-any.whl (65 kB)\n",
            "\u001b[2K   \u001b[90m━━━━━━━━━━━━━━━━━━━━━━━━━━━━━━━━━━━━━━━━\u001b[0m \u001b[32m65.8/65.8 kB\u001b[0m \u001b[31m6.8 MB/s\u001b[0m eta \u001b[36m0:00:00\u001b[0m\n",
            "\u001b[?25hDownloading opentelemetry_exporter_otlp_proto_http-1.33.1-py3-none-any.whl (17 kB)\n",
            "Downloading opentelemetry_exporter_otlp_proto_common-1.33.1-py3-none-any.whl (18 kB)\n",
            "Downloading opentelemetry_proto-1.33.1-py3-none-any.whl (55 kB)\n",
            "\u001b[2K   \u001b[90m━━━━━━━━━━━━━━━━━━━━━━━━━━━━━━━━━━━━━━━━\u001b[0m \u001b[32m55.9/55.9 kB\u001b[0m \u001b[31m5.0 MB/s\u001b[0m eta \u001b[36m0:00:00\u001b[0m\n",
            "\u001b[?25hDownloading opentelemetry_sdk-1.33.1-py3-none-any.whl (118 kB)\n",
            "\u001b[2K   \u001b[90m━━━━━━━━━━━━━━━━━━━━━━━━━━━━━━━━━━━━━━━━\u001b[0m \u001b[32m119.0/119.0 kB\u001b[0m \u001b[31m11.5 MB/s\u001b[0m eta \u001b[36m0:00:00\u001b[0m\n",
            "\u001b[?25hDownloading opentelemetry_semantic_conventions-0.54b1-py3-none-any.whl (194 kB)\n",
            "\u001b[2K   \u001b[90m━━━━━━━━━━━━━━━━━━━━━━━━━━━━━━━━━━━━━━━━\u001b[0m \u001b[32m194.9/194.9 kB\u001b[0m \u001b[31m17.8 MB/s\u001b[0m eta \u001b[36m0:00:00\u001b[0m\n",
            "\u001b[?25hDownloading pdfplumber-0.11.6-py3-none-any.whl (60 kB)\n",
            "\u001b[2K   \u001b[90m━━━━━━━━━━━━━━━━━━━━━━━━━━━━━━━━━━━━━━━━\u001b[0m \u001b[32m60.2/60.2 kB\u001b[0m \u001b[31m6.1 MB/s\u001b[0m eta \u001b[36m0:00:00\u001b[0m\n",
            "\u001b[?25hDownloading pdfminer_six-20250327-py3-none-any.whl (5.6 MB)\n",
            "\u001b[2K   \u001b[90m━━━━━━━━━━━━━━━━━━━━━━━━━━━━━━━━━━━━━━━━\u001b[0m \u001b[32m5.6/5.6 MB\u001b[0m \u001b[31m97.7 MB/s\u001b[0m eta \u001b[36m0:00:00\u001b[0m\n",
            "\u001b[?25hDownloading python_dotenv-1.1.0-py3-none-any.whl (20 kB)\n",
            "Downloading pyvis-0.3.2-py3-none-any.whl (756 kB)\n",
            "\u001b[2K   \u001b[90m━━━━━━━━━━━━━━━━━━━━━━━━━━━━━━━━━━━━━━━━\u001b[0m \u001b[32m756.0/756.0 kB\u001b[0m \u001b[31m47.6 MB/s\u001b[0m eta \u001b[36m0:00:00\u001b[0m\n",
            "\u001b[?25hDownloading tomli-2.2.1-cp311-cp311-manylinux_2_17_x86_64.manylinux2014_x86_64.whl (236 kB)\n",
            "\u001b[2K   \u001b[90m━━━━━━━━━━━━━━━━━━━━━━━━━━━━━━━━━━━━━━━━\u001b[0m \u001b[32m236.0/236.0 kB\u001b[0m \u001b[31m21.9 MB/s\u001b[0m eta \u001b[36m0:00:00\u001b[0m\n",
            "\u001b[?25hDownloading tomli_w-1.2.0-py3-none-any.whl (6.7 kB)\n",
            "Downloading uv-0.7.8-py3-none-manylinux_2_17_x86_64.manylinux2014_x86_64.whl (17.5 MB)\n",
            "\u001b[2K   \u001b[90m━━━━━━━━━━━━━━━━━━━━━━━━━━━━━━━━━━━━━━━━\u001b[0m \u001b[32m17.5/17.5 MB\u001b[0m \u001b[31m87.6 MB/s\u001b[0m eta \u001b[36m0:00:00\u001b[0m\n",
            "\u001b[?25hDownloading bcrypt-4.3.0-cp39-abi3-manylinux_2_34_x86_64.whl (284 kB)\n",
            "\u001b[2K   \u001b[90m━━━━━━━━━━━━━━━━━━━━━━━━━━━━━━━━━━━━━━━━\u001b[0m \u001b[32m284.2/284.2 kB\u001b[0m \u001b[31m25.2 MB/s\u001b[0m eta \u001b[36m0:00:00\u001b[0m\n",
            "\u001b[?25hDownloading Deprecated-1.2.18-py2.py3-none-any.whl (10.0 kB)\n",
            "Downloading importlib_metadata-8.6.1-py3-none-any.whl (26 kB)\n",
            "Downloading jiter-0.8.2-cp311-cp311-manylinux_2_17_x86_64.manylinux2014_x86_64.whl (345 kB)\n",
            "\u001b[2K   \u001b[90m━━━━━━━━━━━━━━━━━━━━━━━━━━━━━━━━━━━━━━━━\u001b[0m \u001b[32m345.6/345.6 kB\u001b[0m \u001b[31m21.4 MB/s\u001b[0m eta \u001b[36m0:00:00\u001b[0m\n",
            "\u001b[?25hDownloading kubernetes-32.0.1-py2.py3-none-any.whl (2.0 MB)\n",
            "\u001b[2K   \u001b[90m━━━━━━━━━━━━━━━━━━━━━━━━━━━━━━━━━━━━━━━━\u001b[0m \u001b[32m2.0/2.0 MB\u001b[0m \u001b[31m75.4 MB/s\u001b[0m eta \u001b[36m0:00:00\u001b[0m\n",
            "\u001b[?25hDownloading mmh3-5.1.0-cp311-cp311-manylinux_2_5_x86_64.manylinux1_x86_64.manylinux_2_17_x86_64.manylinux2014_x86_64.whl (101 kB)\n",
            "\u001b[2K   \u001b[90m━━━━━━━━━━━━━━━━━━━━━━━━━━━━━━━━━━━━━━━━\u001b[0m \u001b[32m101.6/101.6 kB\u001b[0m \u001b[31m10.0 MB/s\u001b[0m eta \u001b[36m0:00:00\u001b[0m\n",
            "\u001b[?25hDownloading onnxruntime-1.22.0-cp311-cp311-manylinux_2_27_x86_64.manylinux_2_28_x86_64.whl (16.4 MB)\n",
            "\u001b[2K   \u001b[90m━━━━━━━━━━━━━━━━━━━━━━━━━━━━━━━━━━━━━━━━\u001b[0m \u001b[32m16.4/16.4 MB\u001b[0m \u001b[31m24.1 MB/s\u001b[0m eta \u001b[36m0:00:00\u001b[0m\n",
            "\u001b[?25hDownloading opentelemetry_exporter_otlp_proto_grpc-1.33.1-py3-none-any.whl (18 kB)\n",
            "Downloading opentelemetry_instrumentation_fastapi-0.54b1-py3-none-any.whl (12 kB)\n",
            "Downloading opentelemetry_instrumentation-0.54b1-py3-none-any.whl (31 kB)\n",
            "Downloading opentelemetry_instrumentation_asgi-0.54b1-py3-none-any.whl (16 kB)\n",
            "Downloading opentelemetry_util_http-0.54b1-py3-none-any.whl (7.3 kB)\n",
            "Downloading overrides-7.7.0-py3-none-any.whl (17 kB)\n",
            "Downloading posthog-4.2.0-py2.py3-none-any.whl (96 kB)\n",
            "\u001b[2K   \u001b[90m━━━━━━━━━━━━━━━━━━━━━━━━━━━━━━━━━━━━━━━━\u001b[0m \u001b[32m96.7/96.7 kB\u001b[0m \u001b[31m9.6 MB/s\u001b[0m eta \u001b[36m0:00:00\u001b[0m\n",
            "\u001b[?25hDownloading pypdfium2-4.30.1-py3-none-manylinux_2_17_x86_64.manylinux2014_x86_64.whl (2.9 MB)\n",
            "\u001b[2K   \u001b[90m━━━━━━━━━━━━━━━━━━━━━━━━━━━━━━━━━━━━━━━━\u001b[0m \u001b[32m2.9/2.9 MB\u001b[0m \u001b[31m88.2 MB/s\u001b[0m eta \u001b[36m0:00:00\u001b[0m\n",
            "\u001b[?25hDownloading uvicorn-0.34.2-py3-none-any.whl (62 kB)\n",
            "\u001b[2K   \u001b[90m━━━━━━━━━━━━━━━━━━━━━━━━━━━━━━━━━━━━━━━━\u001b[0m \u001b[32m62.5/62.5 kB\u001b[0m \u001b[31m6.4 MB/s\u001b[0m eta \u001b[36m0:00:00\u001b[0m\n",
            "\u001b[?25hDownloading backoff-2.2.1-py3-none-any.whl (15 kB)\n",
            "Downloading durationpy-0.10-py3-none-any.whl (3.9 kB)\n",
            "Downloading httptools-0.6.4-cp311-cp311-manylinux_2_5_x86_64.manylinux1_x86_64.manylinux_2_17_x86_64.manylinux2014_x86_64.whl (459 kB)\n",
            "\u001b[2K   \u001b[90m━━━━━━━━━━━━━━━━━━━━━━━━━━━━━━━━━━━━━━━━\u001b[0m \u001b[32m459.8/459.8 kB\u001b[0m \u001b[31m32.4 MB/s\u001b[0m eta \u001b[36m0:00:00\u001b[0m\n",
            "\u001b[?25hDownloading jedi-0.19.2-py2.py3-none-any.whl (1.6 MB)\n",
            "\u001b[2K   \u001b[90m━━━━━━━━━━━━━━━━━━━━━━━━━━━━━━━━━━━━━━━━\u001b[0m \u001b[32m1.6/1.6 MB\u001b[0m \u001b[31m66.3 MB/s\u001b[0m eta \u001b[36m0:00:00\u001b[0m\n",
            "\u001b[?25hDownloading starlette-0.45.3-py3-none-any.whl (71 kB)\n",
            "\u001b[2K   \u001b[90m━━━━━━━━━━━━━━━━━━━━━━━━━━━━━━━━━━━━━━━━\u001b[0m \u001b[32m71.5/71.5 kB\u001b[0m \u001b[31m6.9 MB/s\u001b[0m eta \u001b[36m0:00:00\u001b[0m\n",
            "\u001b[?25hDownloading uvloop-0.21.0-cp311-cp311-manylinux_2_17_x86_64.manylinux2014_x86_64.whl (4.0 MB)\n",
            "\u001b[2K   \u001b[90m━━━━━━━━━━━━━━━━━━━━━━━━━━━━━━━━━━━━━━━━\u001b[0m \u001b[32m4.0/4.0 MB\u001b[0m \u001b[31m86.1 MB/s\u001b[0m eta \u001b[36m0:00:00\u001b[0m\n",
            "\u001b[?25hDownloading watchfiles-1.0.5-cp311-cp311-manylinux_2_17_x86_64.manylinux2014_x86_64.whl (454 kB)\n",
            "\u001b[2K   \u001b[90m━━━━━━━━━━━━━━━━━━━━━━━━━━━━━━━━━━━━━━━━\u001b[0m \u001b[32m454.8/454.8 kB\u001b[0m \u001b[31m32.1 MB/s\u001b[0m eta \u001b[36m0:00:00\u001b[0m\n",
            "\u001b[?25hDownloading coloredlogs-15.0.1-py2.py3-none-any.whl (46 kB)\n",
            "\u001b[2K   \u001b[90m━━━━━━━━━━━━━━━━━━━━━━━━━━━━━━━━━━━━━━━━\u001b[0m \u001b[32m46.0/46.0 kB\u001b[0m \u001b[31m4.5 MB/s\u001b[0m eta \u001b[36m0:00:00\u001b[0m\n",
            "\u001b[?25hDownloading asgiref-3.8.1-py3-none-any.whl (23 kB)\n",
            "Downloading humanfriendly-10.0-py2.py3-none-any.whl (86 kB)\n",
            "\u001b[2K   \u001b[90m━━━━━━━━━━━━━━━━━━━━━━━━━━━━━━━━━━━━━━━━\u001b[0m \u001b[32m86.8/86.8 kB\u001b[0m \u001b[31m10.8 MB/s\u001b[0m eta \u001b[36m0:00:00\u001b[0m\n",
            "\u001b[?25hBuilding wheels for collected packages: pypika\n",
            "  Building wheel for pypika (pyproject.toml) ... \u001b[?25l\u001b[?25hdone\n",
            "  Created wheel for pypika: filename=pypika-0.48.9-py2.py3-none-any.whl size=53801 sha256=cd08034289f071bddc3dd1441b031532dba31a83fa31da017770c396cc18461b\n",
            "  Stored in directory: /root/.cache/pip/wheels/a3/01/bd/4c40ceb9d5354160cb186dcc153360f4ab7eb23e2b24daf96d\n",
            "Successfully built pypika\n",
            "Installing collected packages: pypika, durationpy, appdirs, uvloop, uvicorn, uv, tomli-w, tomli, python-dotenv, pypdfium2, overrides, opentelemetry-util-http, opentelemetry-proto, mmh3, jsonref, json5, json-repair, jiter, jedi, importlib-metadata, humanfriendly, httptools, deprecated, bcrypt, backoff, asgiref, watchfiles, starlette, posthog, opentelemetry-exporter-otlp-proto-common, opentelemetry-api, coloredlogs, pyvis, pdfminer.six, opentelemetry-semantic-conventions, openai, onnxruntime, kubernetes, fastapi, auth0-python, pdfplumber, opentelemetry-sdk, opentelemetry-instrumentation, litellm, instructor, opentelemetry-instrumentation-asgi, opentelemetry-exporter-otlp-proto-http, opentelemetry-exporter-otlp-proto-grpc, opentelemetry-instrumentation-fastapi, chromadb, crewai\n",
            "  Attempting uninstall: jiter\n",
            "    Found existing installation: jiter 0.9.0\n",
            "    Uninstalling jiter-0.9.0:\n",
            "      Successfully uninstalled jiter-0.9.0\n",
            "  Attempting uninstall: importlib-metadata\n",
            "    Found existing installation: importlib_metadata 8.7.0\n",
            "    Uninstalling importlib_metadata-8.7.0:\n",
            "      Successfully uninstalled importlib_metadata-8.7.0\n",
            "  Attempting uninstall: openai\n",
            "    Found existing installation: openai 1.78.1\n",
            "    Uninstalling openai-1.78.1:\n",
            "      Successfully uninstalled openai-1.78.1\n",
            "Successfully installed appdirs-1.4.4 asgiref-3.8.1 auth0-python-4.9.0 backoff-2.2.1 bcrypt-4.3.0 chromadb-1.0.10 coloredlogs-15.0.1 crewai-0.121.0 deprecated-1.2.18 durationpy-0.10 fastapi-0.115.9 httptools-0.6.4 humanfriendly-10.0 importlib-metadata-8.6.1 instructor-1.8.3 jedi-0.19.2 jiter-0.8.2 json-repair-0.46.0 json5-0.12.0 jsonref-1.1.0 kubernetes-32.0.1 litellm-1.68.0 mmh3-5.1.0 onnxruntime-1.22.0 openai-1.75.0 opentelemetry-api-1.33.1 opentelemetry-exporter-otlp-proto-common-1.33.1 opentelemetry-exporter-otlp-proto-grpc-1.33.1 opentelemetry-exporter-otlp-proto-http-1.33.1 opentelemetry-instrumentation-0.54b1 opentelemetry-instrumentation-asgi-0.54b1 opentelemetry-instrumentation-fastapi-0.54b1 opentelemetry-proto-1.33.1 opentelemetry-sdk-1.33.1 opentelemetry-semantic-conventions-0.54b1 opentelemetry-util-http-0.54b1 overrides-7.7.0 pdfminer.six-20250327 pdfplumber-0.11.6 posthog-4.2.0 pypdfium2-4.30.1 pypika-0.48.9 python-dotenv-1.1.0 pyvis-0.3.2 starlette-0.45.3 tomli-2.2.1 tomli-w-1.2.0 uv-0.7.8 uvicorn-0.34.2 uvloop-0.21.0 watchfiles-1.0.5\n"
          ]
        },
        {
          "output_type": "display_data",
          "data": {
            "application/vnd.colab-display-data+json": {
              "pip_warning": {
                "packages": [
                  "importlib_metadata"
                ]
              },
              "id": "8063f831d368465c8b480ee6f28f0045"
            }
          },
          "metadata": {}
        }
      ],
      "source": [
        "!pip install crewai"
      ]
    },
    {
      "cell_type": "code",
      "source": [
        "import crewai\n",
        "from getpass import getpass\n",
        "OPENAPI_KEY = getpass(\"Enter your API key: \")"
      ],
      "metadata": {
        "colab": {
          "base_uri": "https://localhost:8080/"
        },
        "id": "1TYL82lbSGAn",
        "outputId": "ff8335f7-9d59-4abc-b4e8-c9586224b035"
      },
      "execution_count": 1,
      "outputs": [
        {
          "name": "stdout",
          "output_type": "stream",
          "text": [
            "Enter your API key: ··········\n"
          ]
        }
      ]
    },
    {
      "cell_type": "code",
      "source": [
        "import os\n",
        "os.environ[\"OPENAI_API_KEY\"] = OPENAPI_KEY"
      ],
      "metadata": {
        "id": "Vdr3NF8LSGDn"
      },
      "execution_count": 2,
      "outputs": []
    },
    {
      "cell_type": "code",
      "source": [
        "from crewai import Agent, Task, Crew, LLM\n",
        "llm=LLM(model='gpt-4o-mini')"
      ],
      "metadata": {
        "id": "hB8zKzXUSGHw"
      },
      "execution_count": 3,
      "outputs": []
    },
    {
      "cell_type": "code",
      "source": [
        "from getpass import getpass\n",
        "SERPERAI_KEY = getpass(\"Enter your API key: \")"
      ],
      "metadata": {
        "colab": {
          "base_uri": "https://localhost:8080/"
        },
        "id": "r9BGw030SGI7",
        "outputId": "c844f96f-e6f2-47a8-a60b-c7fc311ed224"
      },
      "execution_count": 52,
      "outputs": [
        {
          "name": "stdout",
          "output_type": "stream",
          "text": [
            "Enter your API key: ··········\n"
          ]
        }
      ]
    },
    {
      "cell_type": "code",
      "source": [
        "import os\n",
        "os.environ[\"SERPER_API_KEY\"] = SERPERAI_KEY"
      ],
      "metadata": {
        "id": "jpK6WG1pSGMg"
      },
      "execution_count": 53,
      "outputs": []
    },
    {
      "cell_type": "code",
      "source": [
        "from getpass import getpass\n",
        "GEMINIAPI_KEY = getpass(\"Enter your API key: \")"
      ],
      "metadata": {
        "colab": {
          "base_uri": "https://localhost:8080/"
        },
        "id": "i4AjDmhgSGPP",
        "outputId": "dca98e01-a956-46da-b4c0-aac6c8d85a76"
      },
      "execution_count": 54,
      "outputs": [
        {
          "name": "stdout",
          "output_type": "stream",
          "text": [
            "Enter your API key: ··········\n"
          ]
        }
      ]
    },
    {
      "cell_type": "code",
      "source": [
        "import os\n",
        "os.environ[\"GEMINIAPI_KEY\"] = GEMINIAPI_KEY"
      ],
      "metadata": {
        "id": "7HmNCUYgSGSw"
      },
      "execution_count": 55,
      "outputs": []
    },
    {
      "cell_type": "code",
      "source": [
        "import litellm\n",
        "# https://docs.litellm.ai/docs/providers\n",
        "litellm.api_key=GEMINIAPI_KEY"
      ],
      "metadata": {
        "id": "DmEVZ1n5SGZQ"
      },
      "execution_count": 56,
      "outputs": []
    },
    {
      "cell_type": "code",
      "source": [
        "!pip install --upgrade crewai\n",
        "!pip install upgrade crewai_tools"
      ],
      "metadata": {
        "colab": {
          "base_uri": "https://localhost:8080/"
        },
        "collapsed": true,
        "id": "lN5ja54wSGbz",
        "outputId": "9fc926f7-02ea-4f88-839e-c84f14e8d6c2"
      },
      "execution_count": 3,
      "outputs": [
        {
          "output_type": "stream",
          "name": "stdout",
          "text": [
            "Requirement already satisfied: crewai in /usr/local/lib/python3.11/dist-packages (0.121.0)\n",
            "Requirement already satisfied: appdirs>=1.4.4 in /usr/local/lib/python3.11/dist-packages (from crewai) (1.4.4)\n",
            "Requirement already satisfied: auth0-python>=4.7.1 in /usr/local/lib/python3.11/dist-packages (from crewai) (4.9.0)\n",
            "Requirement already satisfied: blinker>=1.9.0 in /usr/local/lib/python3.11/dist-packages (from crewai) (1.9.0)\n",
            "Requirement already satisfied: chromadb>=0.5.23 in /usr/local/lib/python3.11/dist-packages (from crewai) (0.5.23)\n",
            "Requirement already satisfied: click>=8.1.7 in /usr/local/lib/python3.11/dist-packages (from crewai) (8.2.0)\n",
            "Requirement already satisfied: instructor>=1.3.3 in /usr/local/lib/python3.11/dist-packages (from crewai) (1.8.3)\n",
            "Requirement already satisfied: json-repair>=0.25.2 in /usr/local/lib/python3.11/dist-packages (from crewai) (0.46.0)\n",
            "Requirement already satisfied: json5>=0.10.0 in /usr/local/lib/python3.11/dist-packages (from crewai) (0.12.0)\n",
            "Requirement already satisfied: jsonref>=1.1.0 in /usr/local/lib/python3.11/dist-packages (from crewai) (1.1.0)\n",
            "Requirement already satisfied: litellm==1.68.0 in /usr/local/lib/python3.11/dist-packages (from crewai) (1.68.0)\n",
            "Requirement already satisfied: openai>=1.13.3 in /usr/local/lib/python3.11/dist-packages (from crewai) (1.75.0)\n",
            "Requirement already satisfied: openpyxl>=3.1.5 in /usr/local/lib/python3.11/dist-packages (from crewai) (3.1.5)\n",
            "Requirement already satisfied: opentelemetry-api>=1.30.0 in /usr/local/lib/python3.11/dist-packages (from crewai) (1.33.1)\n",
            "Requirement already satisfied: opentelemetry-exporter-otlp-proto-http>=1.30.0 in /usr/local/lib/python3.11/dist-packages (from crewai) (1.33.1)\n",
            "Requirement already satisfied: opentelemetry-sdk>=1.30.0 in /usr/local/lib/python3.11/dist-packages (from crewai) (1.33.1)\n",
            "Requirement already satisfied: pdfplumber>=0.11.4 in /usr/local/lib/python3.11/dist-packages (from crewai) (0.11.6)\n",
            "Requirement already satisfied: pydantic>=2.4.2 in /usr/local/lib/python3.11/dist-packages (from crewai) (2.11.4)\n",
            "Requirement already satisfied: python-dotenv>=1.0.0 in /usr/local/lib/python3.11/dist-packages (from crewai) (1.1.0)\n",
            "Requirement already satisfied: pyvis>=0.3.2 in /usr/local/lib/python3.11/dist-packages (from crewai) (0.3.2)\n",
            "Requirement already satisfied: regex>=2024.9.11 in /usr/local/lib/python3.11/dist-packages (from crewai) (2024.11.6)\n",
            "Requirement already satisfied: tomli-w>=1.1.0 in /usr/local/lib/python3.11/dist-packages (from crewai) (1.2.0)\n",
            "Requirement already satisfied: tomli>=2.0.2 in /usr/local/lib/python3.11/dist-packages (from crewai) (2.2.1)\n",
            "Requirement already satisfied: uv>=0.4.25 in /usr/local/lib/python3.11/dist-packages (from crewai) (0.7.8)\n",
            "Requirement already satisfied: aiohttp in /usr/local/lib/python3.11/dist-packages (from litellm==1.68.0->crewai) (3.11.15)\n",
            "Requirement already satisfied: httpx>=0.23.0 in /usr/local/lib/python3.11/dist-packages (from litellm==1.68.0->crewai) (0.28.1)\n",
            "Requirement already satisfied: importlib-metadata>=6.8.0 in /usr/local/lib/python3.11/dist-packages (from litellm==1.68.0->crewai) (8.6.1)\n",
            "Requirement already satisfied: jinja2<4.0.0,>=3.1.2 in /usr/local/lib/python3.11/dist-packages (from litellm==1.68.0->crewai) (3.1.6)\n",
            "Requirement already satisfied: jsonschema<5.0.0,>=4.22.0 in /usr/local/lib/python3.11/dist-packages (from litellm==1.68.0->crewai) (4.23.0)\n",
            "Requirement already satisfied: tiktoken>=0.7.0 in /usr/local/lib/python3.11/dist-packages (from litellm==1.68.0->crewai) (0.9.0)\n",
            "Requirement already satisfied: tokenizers in /usr/local/lib/python3.11/dist-packages (from litellm==1.68.0->crewai) (0.20.3)\n",
            "Requirement already satisfied: cryptography>=43.0.1 in /usr/local/lib/python3.11/dist-packages (from auth0-python>=4.7.1->crewai) (43.0.3)\n",
            "Requirement already satisfied: pyjwt>=2.8.0 in /usr/local/lib/python3.11/dist-packages (from auth0-python>=4.7.1->crewai) (2.10.1)\n",
            "Requirement already satisfied: requests>=2.32.3 in /usr/local/lib/python3.11/dist-packages (from auth0-python>=4.7.1->crewai) (2.32.3)\n",
            "Requirement already satisfied: urllib3>=2.2.3 in /usr/local/lib/python3.11/dist-packages (from auth0-python>=4.7.1->crewai) (2.4.0)\n",
            "Requirement already satisfied: build>=1.0.3 in /usr/local/lib/python3.11/dist-packages (from chromadb>=0.5.23->crewai) (1.2.2.post1)\n",
            "Requirement already satisfied: chroma-hnswlib==0.7.6 in /usr/local/lib/python3.11/dist-packages (from chromadb>=0.5.23->crewai) (0.7.6)\n",
            "Requirement already satisfied: fastapi>=0.95.2 in /usr/local/lib/python3.11/dist-packages (from chromadb>=0.5.23->crewai) (0.115.9)\n",
            "Requirement already satisfied: uvicorn>=0.18.3 in /usr/local/lib/python3.11/dist-packages (from uvicorn[standard]>=0.18.3->chromadb>=0.5.23->crewai) (0.34.2)\n",
            "Requirement already satisfied: numpy>=1.22.5 in /usr/local/lib/python3.11/dist-packages (from chromadb>=0.5.23->crewai) (2.0.2)\n",
            "Requirement already satisfied: posthog>=2.4.0 in /usr/local/lib/python3.11/dist-packages (from chromadb>=0.5.23->crewai) (3.25.0)\n",
            "Requirement already satisfied: typing_extensions>=4.5.0 in /usr/local/lib/python3.11/dist-packages (from chromadb>=0.5.23->crewai) (4.13.2)\n",
            "Requirement already satisfied: onnxruntime>=1.14.1 in /usr/local/lib/python3.11/dist-packages (from chromadb>=0.5.23->crewai) (1.22.0)\n",
            "Requirement already satisfied: opentelemetry-exporter-otlp-proto-grpc>=1.2.0 in /usr/local/lib/python3.11/dist-packages (from chromadb>=0.5.23->crewai) (1.33.1)\n",
            "Requirement already satisfied: opentelemetry-instrumentation-fastapi>=0.41b0 in /usr/local/lib/python3.11/dist-packages (from chromadb>=0.5.23->crewai) (0.54b1)\n",
            "Requirement already satisfied: pypika>=0.48.9 in /usr/local/lib/python3.11/dist-packages (from chromadb>=0.5.23->crewai) (0.48.9)\n",
            "Requirement already satisfied: tqdm>=4.65.0 in /usr/local/lib/python3.11/dist-packages (from chromadb>=0.5.23->crewai) (4.67.1)\n",
            "Requirement already satisfied: overrides>=7.3.1 in /usr/local/lib/python3.11/dist-packages (from chromadb>=0.5.23->crewai) (7.7.0)\n",
            "Requirement already satisfied: importlib-resources in /usr/local/lib/python3.11/dist-packages (from chromadb>=0.5.23->crewai) (6.5.2)\n",
            "Requirement already satisfied: grpcio>=1.58.0 in /usr/local/lib/python3.11/dist-packages (from chromadb>=0.5.23->crewai) (1.71.0)\n",
            "Requirement already satisfied: bcrypt>=4.0.1 in /usr/local/lib/python3.11/dist-packages (from chromadb>=0.5.23->crewai) (4.3.0)\n",
            "Requirement already satisfied: typer>=0.9.0 in /usr/local/lib/python3.11/dist-packages (from chromadb>=0.5.23->crewai) (0.15.3)\n",
            "Requirement already satisfied: kubernetes>=28.1.0 in /usr/local/lib/python3.11/dist-packages (from chromadb>=0.5.23->crewai) (32.0.1)\n",
            "Requirement already satisfied: tenacity>=8.2.3 in /usr/local/lib/python3.11/dist-packages (from chromadb>=0.5.23->crewai) (9.1.2)\n",
            "Requirement already satisfied: PyYAML>=6.0.0 in /usr/local/lib/python3.11/dist-packages (from chromadb>=0.5.23->crewai) (6.0.2)\n",
            "Requirement already satisfied: mmh3>=4.0.1 in /usr/local/lib/python3.11/dist-packages (from chromadb>=0.5.23->crewai) (5.1.0)\n",
            "Requirement already satisfied: orjson>=3.9.12 in /usr/local/lib/python3.11/dist-packages (from chromadb>=0.5.23->crewai) (3.10.18)\n",
            "Requirement already satisfied: rich>=10.11.0 in /usr/local/lib/python3.11/dist-packages (from chromadb>=0.5.23->crewai) (13.9.4)\n",
            "Requirement already satisfied: docstring-parser<1.0,>=0.16 in /usr/local/lib/python3.11/dist-packages (from instructor>=1.3.3->crewai) (0.16)\n",
            "Requirement already satisfied: jiter<0.9,>=0.6.1 in /usr/local/lib/python3.11/dist-packages (from instructor>=1.3.3->crewai) (0.8.2)\n",
            "Requirement already satisfied: pydantic-core<3.0.0,>=2.18.0 in /usr/local/lib/python3.11/dist-packages (from instructor>=1.3.3->crewai) (2.33.2)\n",
            "Requirement already satisfied: anyio<5,>=3.5.0 in /usr/local/lib/python3.11/dist-packages (from openai>=1.13.3->crewai) (4.9.0)\n",
            "Requirement already satisfied: distro<2,>=1.7.0 in /usr/local/lib/python3.11/dist-packages (from openai>=1.13.3->crewai) (1.9.0)\n",
            "Requirement already satisfied: sniffio in /usr/local/lib/python3.11/dist-packages (from openai>=1.13.3->crewai) (1.3.1)\n",
            "Requirement already satisfied: et-xmlfile in /usr/local/lib/python3.11/dist-packages (from openpyxl>=3.1.5->crewai) (2.0.0)\n",
            "Requirement already satisfied: deprecated>=1.2.6 in /usr/local/lib/python3.11/dist-packages (from opentelemetry-api>=1.30.0->crewai) (1.2.18)\n",
            "Requirement already satisfied: googleapis-common-protos~=1.52 in /usr/local/lib/python3.11/dist-packages (from opentelemetry-exporter-otlp-proto-http>=1.30.0->crewai) (1.70.0)\n",
            "Requirement already satisfied: opentelemetry-exporter-otlp-proto-common==1.33.1 in /usr/local/lib/python3.11/dist-packages (from opentelemetry-exporter-otlp-proto-http>=1.30.0->crewai) (1.33.1)\n",
            "Requirement already satisfied: opentelemetry-proto==1.33.1 in /usr/local/lib/python3.11/dist-packages (from opentelemetry-exporter-otlp-proto-http>=1.30.0->crewai) (1.33.1)\n",
            "Requirement already satisfied: protobuf<6.0,>=5.0 in /usr/local/lib/python3.11/dist-packages (from opentelemetry-proto==1.33.1->opentelemetry-exporter-otlp-proto-http>=1.30.0->crewai) (5.29.4)\n",
            "Requirement already satisfied: opentelemetry-semantic-conventions==0.54b1 in /usr/local/lib/python3.11/dist-packages (from opentelemetry-sdk>=1.30.0->crewai) (0.54b1)\n",
            "Requirement already satisfied: pdfminer.six==20250327 in /usr/local/lib/python3.11/dist-packages (from pdfplumber>=0.11.4->crewai) (20250327)\n",
            "Requirement already satisfied: Pillow>=9.1 in /usr/local/lib/python3.11/dist-packages (from pdfplumber>=0.11.4->crewai) (11.2.1)\n",
            "Requirement already satisfied: pypdfium2>=4.18.0 in /usr/local/lib/python3.11/dist-packages (from pdfplumber>=0.11.4->crewai) (4.30.1)\n",
            "Requirement already satisfied: charset-normalizer>=2.0.0 in /usr/local/lib/python3.11/dist-packages (from pdfminer.six==20250327->pdfplumber>=0.11.4->crewai) (3.4.2)\n",
            "Requirement already satisfied: annotated-types>=0.6.0 in /usr/local/lib/python3.11/dist-packages (from pydantic>=2.4.2->crewai) (0.7.0)\n",
            "Requirement already satisfied: typing-inspection>=0.4.0 in /usr/local/lib/python3.11/dist-packages (from pydantic>=2.4.2->crewai) (0.4.0)\n",
            "Requirement already satisfied: ipython>=5.3.0 in /usr/local/lib/python3.11/dist-packages (from pyvis>=0.3.2->crewai) (7.34.0)\n",
            "Requirement already satisfied: jsonpickle>=1.4.1 in /usr/local/lib/python3.11/dist-packages (from pyvis>=0.3.2->crewai) (4.0.5)\n",
            "Requirement already satisfied: networkx>=1.11 in /usr/local/lib/python3.11/dist-packages (from pyvis>=0.3.2->crewai) (3.4.2)\n",
            "Requirement already satisfied: aiohappyeyeballs>=2.3.0 in /usr/local/lib/python3.11/dist-packages (from aiohttp->litellm==1.68.0->crewai) (2.6.1)\n",
            "Requirement already satisfied: aiosignal>=1.1.2 in /usr/local/lib/python3.11/dist-packages (from aiohttp->litellm==1.68.0->crewai) (1.3.2)\n",
            "Requirement already satisfied: attrs>=17.3.0 in /usr/local/lib/python3.11/dist-packages (from aiohttp->litellm==1.68.0->crewai) (25.3.0)\n",
            "Requirement already satisfied: frozenlist>=1.1.1 in /usr/local/lib/python3.11/dist-packages (from aiohttp->litellm==1.68.0->crewai) (1.6.0)\n",
            "Requirement already satisfied: multidict<7.0,>=4.5 in /usr/local/lib/python3.11/dist-packages (from aiohttp->litellm==1.68.0->crewai) (6.4.3)\n",
            "Requirement already satisfied: propcache>=0.2.0 in /usr/local/lib/python3.11/dist-packages (from aiohttp->litellm==1.68.0->crewai) (0.3.1)\n",
            "Requirement already satisfied: yarl<2.0,>=1.17.0 in /usr/local/lib/python3.11/dist-packages (from aiohttp->litellm==1.68.0->crewai) (1.20.0)\n",
            "Requirement already satisfied: idna>=2.8 in /usr/local/lib/python3.11/dist-packages (from anyio<5,>=3.5.0->openai>=1.13.3->crewai) (3.10)\n",
            "Requirement already satisfied: packaging>=19.1 in /usr/local/lib/python3.11/dist-packages (from build>=1.0.3->chromadb>=0.5.23->crewai) (24.2)\n",
            "Requirement already satisfied: pyproject_hooks in /usr/local/lib/python3.11/dist-packages (from build>=1.0.3->chromadb>=0.5.23->crewai) (1.2.0)\n",
            "Requirement already satisfied: cffi>=1.12 in /usr/local/lib/python3.11/dist-packages (from cryptography>=43.0.1->auth0-python>=4.7.1->crewai) (1.17.1)\n",
            "Requirement already satisfied: wrapt<2,>=1.10 in /usr/local/lib/python3.11/dist-packages (from deprecated>=1.2.6->opentelemetry-api>=1.30.0->crewai) (1.17.2)\n",
            "Requirement already satisfied: starlette<0.46.0,>=0.40.0 in /usr/local/lib/python3.11/dist-packages (from fastapi>=0.95.2->chromadb>=0.5.23->crewai) (0.45.3)\n",
            "Requirement already satisfied: certifi in /usr/local/lib/python3.11/dist-packages (from httpx>=0.23.0->litellm==1.68.0->crewai) (2025.4.26)\n",
            "Requirement already satisfied: httpcore==1.* in /usr/local/lib/python3.11/dist-packages (from httpx>=0.23.0->litellm==1.68.0->crewai) (1.0.9)\n",
            "Requirement already satisfied: h11>=0.16 in /usr/local/lib/python3.11/dist-packages (from httpcore==1.*->httpx>=0.23.0->litellm==1.68.0->crewai) (0.16.0)\n",
            "Requirement already satisfied: zipp>=3.20 in /usr/local/lib/python3.11/dist-packages (from importlib-metadata>=6.8.0->litellm==1.68.0->crewai) (3.21.0)\n",
            "Requirement already satisfied: setuptools>=18.5 in /usr/local/lib/python3.11/dist-packages (from ipython>=5.3.0->pyvis>=0.3.2->crewai) (75.2.0)\n",
            "Requirement already satisfied: jedi>=0.16 in /usr/local/lib/python3.11/dist-packages (from ipython>=5.3.0->pyvis>=0.3.2->crewai) (0.19.2)\n",
            "Requirement already satisfied: decorator in /usr/local/lib/python3.11/dist-packages (from ipython>=5.3.0->pyvis>=0.3.2->crewai) (4.4.2)\n",
            "Requirement already satisfied: pickleshare in /usr/local/lib/python3.11/dist-packages (from ipython>=5.3.0->pyvis>=0.3.2->crewai) (0.7.5)\n",
            "Requirement already satisfied: traitlets>=4.2 in /usr/local/lib/python3.11/dist-packages (from ipython>=5.3.0->pyvis>=0.3.2->crewai) (5.7.1)\n",
            "Requirement already satisfied: prompt-toolkit!=3.0.0,!=3.0.1,<3.1.0,>=2.0.0 in /usr/local/lib/python3.11/dist-packages (from ipython>=5.3.0->pyvis>=0.3.2->crewai) (3.0.51)\n",
            "Requirement already satisfied: pygments in /usr/local/lib/python3.11/dist-packages (from ipython>=5.3.0->pyvis>=0.3.2->crewai) (2.19.1)\n",
            "Requirement already satisfied: backcall in /usr/local/lib/python3.11/dist-packages (from ipython>=5.3.0->pyvis>=0.3.2->crewai) (0.2.0)\n",
            "Requirement already satisfied: matplotlib-inline in /usr/local/lib/python3.11/dist-packages (from ipython>=5.3.0->pyvis>=0.3.2->crewai) (0.1.7)\n",
            "Requirement already satisfied: pexpect>4.3 in /usr/local/lib/python3.11/dist-packages (from ipython>=5.3.0->pyvis>=0.3.2->crewai) (4.9.0)\n",
            "Requirement already satisfied: MarkupSafe>=2.0 in /usr/local/lib/python3.11/dist-packages (from jinja2<4.0.0,>=3.1.2->litellm==1.68.0->crewai) (3.0.2)\n",
            "Requirement already satisfied: jsonschema-specifications>=2023.03.6 in /usr/local/lib/python3.11/dist-packages (from jsonschema<5.0.0,>=4.22.0->litellm==1.68.0->crewai) (2025.4.1)\n",
            "Requirement already satisfied: referencing>=0.28.4 in /usr/local/lib/python3.11/dist-packages (from jsonschema<5.0.0,>=4.22.0->litellm==1.68.0->crewai) (0.36.2)\n",
            "Requirement already satisfied: rpds-py>=0.7.1 in /usr/local/lib/python3.11/dist-packages (from jsonschema<5.0.0,>=4.22.0->litellm==1.68.0->crewai) (0.24.0)\n",
            "Requirement already satisfied: six>=1.9.0 in /usr/local/lib/python3.11/dist-packages (from kubernetes>=28.1.0->chromadb>=0.5.23->crewai) (1.17.0)\n",
            "Requirement already satisfied: python-dateutil>=2.5.3 in /usr/local/lib/python3.11/dist-packages (from kubernetes>=28.1.0->chromadb>=0.5.23->crewai) (2.9.0.post0)\n",
            "Requirement already satisfied: google-auth>=1.0.1 in /usr/local/lib/python3.11/dist-packages (from kubernetes>=28.1.0->chromadb>=0.5.23->crewai) (2.38.0)\n",
            "Requirement already satisfied: websocket-client!=0.40.0,!=0.41.*,!=0.42.*,>=0.32.0 in /usr/local/lib/python3.11/dist-packages (from kubernetes>=28.1.0->chromadb>=0.5.23->crewai) (1.8.0)\n",
            "Requirement already satisfied: requests-oauthlib in /usr/local/lib/python3.11/dist-packages (from kubernetes>=28.1.0->chromadb>=0.5.23->crewai) (2.0.0)\n",
            "Requirement already satisfied: oauthlib>=3.2.2 in /usr/local/lib/python3.11/dist-packages (from kubernetes>=28.1.0->chromadb>=0.5.23->crewai) (3.2.2)\n",
            "Requirement already satisfied: durationpy>=0.7 in /usr/local/lib/python3.11/dist-packages (from kubernetes>=28.1.0->chromadb>=0.5.23->crewai) (0.10)\n",
            "Requirement already satisfied: coloredlogs in /usr/local/lib/python3.11/dist-packages (from onnxruntime>=1.14.1->chromadb>=0.5.23->crewai) (15.0.1)\n",
            "Requirement already satisfied: flatbuffers in /usr/local/lib/python3.11/dist-packages (from onnxruntime>=1.14.1->chromadb>=0.5.23->crewai) (25.2.10)\n",
            "Requirement already satisfied: sympy in /usr/local/lib/python3.11/dist-packages (from onnxruntime>=1.14.1->chromadb>=0.5.23->crewai) (1.13.1)\n",
            "Requirement already satisfied: opentelemetry-instrumentation-asgi==0.54b1 in /usr/local/lib/python3.11/dist-packages (from opentelemetry-instrumentation-fastapi>=0.41b0->chromadb>=0.5.23->crewai) (0.54b1)\n",
            "Requirement already satisfied: opentelemetry-instrumentation==0.54b1 in /usr/local/lib/python3.11/dist-packages (from opentelemetry-instrumentation-fastapi>=0.41b0->chromadb>=0.5.23->crewai) (0.54b1)\n",
            "Requirement already satisfied: opentelemetry-util-http==0.54b1 in /usr/local/lib/python3.11/dist-packages (from opentelemetry-instrumentation-fastapi>=0.41b0->chromadb>=0.5.23->crewai) (0.54b1)\n",
            "Requirement already satisfied: asgiref~=3.0 in /usr/local/lib/python3.11/dist-packages (from opentelemetry-instrumentation-asgi==0.54b1->opentelemetry-instrumentation-fastapi>=0.41b0->chromadb>=0.5.23->crewai) (3.8.1)\n",
            "Requirement already satisfied: monotonic>=1.5 in /usr/local/lib/python3.11/dist-packages (from posthog>=2.4.0->chromadb>=0.5.23->crewai) (1.6)\n",
            "Requirement already satisfied: backoff>=1.10.0 in /usr/local/lib/python3.11/dist-packages (from posthog>=2.4.0->chromadb>=0.5.23->crewai) (2.2.1)\n",
            "Requirement already satisfied: markdown-it-py>=2.2.0 in /usr/local/lib/python3.11/dist-packages (from rich>=10.11.0->chromadb>=0.5.23->crewai) (3.0.0)\n",
            "Requirement already satisfied: huggingface-hub<1.0,>=0.16.4 in /usr/local/lib/python3.11/dist-packages (from tokenizers->litellm==1.68.0->crewai) (0.31.2)\n",
            "Requirement already satisfied: shellingham>=1.3.0 in /usr/local/lib/python3.11/dist-packages (from typer>=0.9.0->chromadb>=0.5.23->crewai) (1.5.4)\n",
            "Requirement already satisfied: httptools>=0.6.3 in /usr/local/lib/python3.11/dist-packages (from uvicorn[standard]>=0.18.3->chromadb>=0.5.23->crewai) (0.6.4)\n",
            "Requirement already satisfied: uvloop!=0.15.0,!=0.15.1,>=0.14.0 in /usr/local/lib/python3.11/dist-packages (from uvicorn[standard]>=0.18.3->chromadb>=0.5.23->crewai) (0.21.0)\n",
            "Requirement already satisfied: watchfiles>=0.13 in /usr/local/lib/python3.11/dist-packages (from uvicorn[standard]>=0.18.3->chromadb>=0.5.23->crewai) (1.0.5)\n",
            "Requirement already satisfied: websockets>=10.4 in /usr/local/lib/python3.11/dist-packages (from uvicorn[standard]>=0.18.3->chromadb>=0.5.23->crewai) (15.0.1)\n",
            "Requirement already satisfied: pycparser in /usr/local/lib/python3.11/dist-packages (from cffi>=1.12->cryptography>=43.0.1->auth0-python>=4.7.1->crewai) (2.22)\n",
            "Requirement already satisfied: cachetools<6.0,>=2.0.0 in /usr/local/lib/python3.11/dist-packages (from google-auth>=1.0.1->kubernetes>=28.1.0->chromadb>=0.5.23->crewai) (5.5.2)\n",
            "Requirement already satisfied: pyasn1-modules>=0.2.1 in /usr/local/lib/python3.11/dist-packages (from google-auth>=1.0.1->kubernetes>=28.1.0->chromadb>=0.5.23->crewai) (0.4.2)\n",
            "Requirement already satisfied: rsa<5,>=3.1.4 in /usr/local/lib/python3.11/dist-packages (from google-auth>=1.0.1->kubernetes>=28.1.0->chromadb>=0.5.23->crewai) (4.9.1)\n",
            "Requirement already satisfied: filelock in /usr/local/lib/python3.11/dist-packages (from huggingface-hub<1.0,>=0.16.4->tokenizers->litellm==1.68.0->crewai) (3.18.0)\n",
            "Requirement already satisfied: fsspec>=2023.5.0 in /usr/local/lib/python3.11/dist-packages (from huggingface-hub<1.0,>=0.16.4->tokenizers->litellm==1.68.0->crewai) (2025.3.2)\n",
            "Requirement already satisfied: parso<0.9.0,>=0.8.4 in /usr/local/lib/python3.11/dist-packages (from jedi>=0.16->ipython>=5.3.0->pyvis>=0.3.2->crewai) (0.8.4)\n",
            "Requirement already satisfied: mdurl~=0.1 in /usr/local/lib/python3.11/dist-packages (from markdown-it-py>=2.2.0->rich>=10.11.0->chromadb>=0.5.23->crewai) (0.1.2)\n",
            "Requirement already satisfied: ptyprocess>=0.5 in /usr/local/lib/python3.11/dist-packages (from pexpect>4.3->ipython>=5.3.0->pyvis>=0.3.2->crewai) (0.7.0)\n",
            "Requirement already satisfied: wcwidth in /usr/local/lib/python3.11/dist-packages (from prompt-toolkit!=3.0.0,!=3.0.1,<3.1.0,>=2.0.0->ipython>=5.3.0->pyvis>=0.3.2->crewai) (0.2.13)\n",
            "Requirement already satisfied: humanfriendly>=9.1 in /usr/local/lib/python3.11/dist-packages (from coloredlogs->onnxruntime>=1.14.1->chromadb>=0.5.23->crewai) (10.0)\n",
            "Requirement already satisfied: mpmath<1.4,>=1.1.0 in /usr/local/lib/python3.11/dist-packages (from sympy->onnxruntime>=1.14.1->chromadb>=0.5.23->crewai) (1.3.0)\n",
            "Requirement already satisfied: pyasn1<0.7.0,>=0.6.1 in /usr/local/lib/python3.11/dist-packages (from pyasn1-modules>=0.2.1->google-auth>=1.0.1->kubernetes>=28.1.0->chromadb>=0.5.23->crewai) (0.6.1)\n",
            "\u001b[31mERROR: Could not find a version that satisfies the requirement upgrade (from versions: none)\u001b[0m\u001b[31m\n",
            "\u001b[0m\u001b[31mERROR: No matching distribution found for upgrade\u001b[0m\u001b[31m\n",
            "\u001b[0m"
          ]
        }
      ]
    },
    {
      "cell_type": "code",
      "source": [
        "from crewai_tools import SerperDevTool"
      ],
      "metadata": {
        "id": "3GEYIeQMSGdx"
      },
      "execution_count": 57,
      "outputs": []
    },
    {
      "cell_type": "markdown",
      "source": [
        "# HealthCare Domain"
      ],
      "metadata": {
        "id": "CJtfb69hZEcf"
      }
    },
    {
      "cell_type": "code",
      "source": [
        "topic=\"current situation og donald trump tariff on apple \""
      ],
      "metadata": {
        "id": "E1DwfKaQSGh4"
      },
      "execution_count": 67,
      "outputs": []
    },
    {
      "cell_type": "code",
      "source": [
        "from crewai import Agent, Task, Crew, LLM\n",
        "llm1 = LLM(model=\"gemini/gemini-2.0-flash\")"
      ],
      "metadata": {
        "id": "uAieHN0lSGlr"
      },
      "execution_count": 68,
      "outputs": []
    },
    {
      "cell_type": "code",
      "source": [
        "search_tool=SerperDevTool(n=2)"
      ],
      "metadata": {
        "id": "QiAyGYAPSGox"
      },
      "execution_count": 69,
      "outputs": []
    },
    {
      "cell_type": "code",
      "source": [
        "#Agent 1\n",
        "Senior_Research_analyst=Agent(\n",
        "    role=\"Senior_Research_analyst\",\n",
        "    goal=f\"Reaserch ,Analyze, and Synthesize compreshensive information {topic } from realiable web sources\",\n",
        "    backstory= \"You are an expert reaseracher analyst with advanced web research skills.\"\n",
        "                \"You Excel at finding ,analysing and synthesizing information from across the internet  using search tools. \"\n",
        "                \"You're skilled at distinguishing realiable sources from unrealiable ones\"\n",
        "                \"fact-checking ,cross refrencing information and identifying key patterns and insight.\"\n",
        "                \"you provide well-oragnized research briefs with proper citations and source verfication\"\n",
        "                \"You analysis includes both raw data and interpeted insight , making complex information accessible and actionable\",\n",
        "    verbose=True,\n",
        "    allow_delegation=False,\n",
        "    tools=[search_tool],\n",
        "    llm=llm1,\n",
        ")"
      ],
      "metadata": {
        "id": "tHWzB_YJSGrQ"
      },
      "execution_count": 71,
      "outputs": []
    },
    {
      "cell_type": "code",
      "source": [
        "#Agent 2 -Content Creator\n",
        "Content_writer=Agent(\n",
        "    role=\"Content_writer\",\n",
        "    goal=\"Transform reasearch finding into enagging blog posts while maintaining accuracy\",\n",
        "    backstory = \"You are a skilled content writer specilized in creating, engaging, accessible content from technical research.\"\n",
        "                \"You work closely with a Senior Research Analyst and excel at maintaining the perfect balance between information and entertaining writing. \"\n",
        "                \"while ensuring all facts and citation from the research are properly incorporated.\"\n",
        "                \"You have a talent for making complex topics approachable without oversimplifying them\",\n",
        "    verbose=True,\n",
        "    allow_delegation=False,\n",
        "    llm=llm1,\n",
        ")"
      ],
      "metadata": {
        "id": "yFOAq7guSGuD"
      },
      "execution_count": 72,
      "outputs": []
    },
    {
      "cell_type": "code",
      "source": [
        "#Task 1\n",
        "research_tasks= Task(description=(\"\"\"\n",
        "                                1.Conduct comprehensive research on {topic} including:\n",
        "                                - Recent development and news\n",
        "                                - Key industry trends and innovations\n",
        "                                - Expert Opinions and analyses\n",
        "                                - Statistical data and market insights\n",
        "                                2.Evaluate source credibility and fact-check all info mation\n",
        "                                3.Organize findings into a structured research brief\n",
        "                                4.Include all relevant citations and sources\n",
        "                                \"\"\"),\n",
        "                                expected_output= \"\"\"A detailed research report containing:\n",
        "                                              - Executive summary of key findings\n",
        "                                              - Comprehensive analysis of current trends and developments\n",
        "                                              - List of verified facts and statistics\n",
        "                                              - All citations and links to original sources\n",
        "                                              - clear categorization of main thems and patte s\n",
        "\n",
        "                                          Please format with clear sections and bullet point for easy reference and also use simple language.\n",
        "                              \"\"\",\n",
        "                              agent=Senior_Research_analyst)"
      ],
      "metadata": {
        "id": "kZCK6lhxgk9C"
      },
      "execution_count": 73,
      "outputs": []
    },
    {
      "cell_type": "code",
      "source": [
        "#Task 2\n",
        "writing_task = Task(\n",
        "    description=(\"\"\"\n",
        "    Using the research brief provided, create an engaging blog post that:\n",
        "    1.Transforms technical information into accessible content\n",
        "    2.Maintains all factual accuracy and citations from the research\n",
        "    3.Includes:\n",
        "        - Attention-grabbing introduction\n",
        "        - Well-structured body sections with clear heading\n",
        "        - Compelling conclusion\n",
        "    4.Preserves all source citations in [Source: URL] format\n",
        "    5.Includes a References section at the end\n",
        "    \"\"\"),\n",
        "    expected_output=\"\"\"A polished blog post in markdown format that:\n",
        "                    - Engages readers while maintaining accuracy\n",
        "                    - Contains properly structured sections\n",
        "                    - Includes inline citations hyperlinked to the original source url\n",
        "                    - Presents information in an accessible yet informative way\n",
        "                    -Follows proper markdown formatting use H1 for the title and h3 for the subsections\n",
        "    \"\"\",\n",
        "    agent=Content_writer)"
      ],
      "metadata": {
        "id": "B7oUbZvGglBO"
      },
      "execution_count": 74,
      "outputs": []
    },
    {
      "cell_type": "code",
      "source": [
        "crew=Crew(agents=[Senior_Research_analyst,Content_writer],\n",
        "          tasks=[research_tasks,writing_task])"
      ],
      "metadata": {
        "id": "TZHqAtFFglEI"
      },
      "execution_count": 75,
      "outputs": []
    },
    {
      "cell_type": "code",
      "source": [
        "result=crew.kickoff(inputs={\"topic\":topic})\n",
        "print(result)"
      ],
      "metadata": {
        "colab": {
          "base_uri": "https://localhost:8080/"
        },
        "id": "2yOv87zfglGR",
        "outputId": "eb037f9f-4641-41c6-8da0-1e3be72296cb"
      },
      "execution_count": 76,
      "outputs": [
        {
          "output_type": "stream",
          "name": "stdout",
          "text": [
            "\u001b[1m\u001b[95m# Agent:\u001b[00m \u001b[1m\u001b[92mSenior_Research_analyst\u001b[00m\n",
            "\u001b[95m## Task:\u001b[00m \u001b[92m\n",
            "                                1.Conduct comprehensive research on current situation og donald trump tariff on apple  including:\n",
            "                                - Recent development and news\n",
            "                                - Key industry trends and innovations\n",
            "                                - Expert Opinions and analyses\n",
            "                                - Statistical data and market insights\n",
            "                                2.Evaluate source credibility and fact-check all info mation\n",
            "                                3.Organize findings into a structured research brief\n",
            "                                4.Include all relevant citations and sources\n",
            "                                \u001b[00m\n",
            "\n",
            "\n",
            "\u001b[1m\u001b[95m# Agent:\u001b[00m \u001b[1m\u001b[92mSenior_Research_analyst\u001b[00m\n",
            "\u001b[95m## Thought:\u001b[00m \u001b[92mOkay, I understand. My task is to research the current situation regarding Donald Trump's tariffs on Apple, focusing on recent developments, industry trends, expert opinions, and market insights. I need to evaluate the credibility of my sources, fact-check information, organize my findings into a structured report, and provide citations.\u001b[00m\n",
            "\u001b[95m## Using tool:\u001b[00m \u001b[92mSearch the internet with Serper\u001b[00m\n",
            "\u001b[95m## Tool Input:\u001b[00m \u001b[92m\n",
            "\"{\\\"search_query\\\": \\\"Donald Trump tariffs on Apple recent developments\\\"}\"\u001b[00m\n",
            "\u001b[95m## Tool Output:\u001b[00m \u001b[92m\n",
            "{'searchParameters': {'q': 'Donald Trump tariffs on Apple recent developments', 'type': 'search', 'num': 10, 'engine': 'google'}, 'organic': [{'title': 'Trump threatens new tariffs on European Union and Apple ... - Reuters', 'link': 'https://www.reuters.com/business/apple-pay-25-tariff-if-phones-not-made-us-trump-says-2025-05-23/', 'snippet': \"Trump threatens 25% tariff on non-US-made iPhones · Proposed tariff on Apple would also apply to Samsung, Trump says · President says, 'I'm not ...\", 'position': 2}, {'title': 'Trump threatens 50% tariffs on EU and 25% penalties on ... - AP News', 'link': 'https://apnews.com/article/trump-tariff-apple-iphone-tax-170021e8fad22878d0183b5d48971087', 'snippet': 'President Donald Trump is threatening a 50% tax on all imports from the European Union as well as a 25% tariff on smartphones unless the ...', 'position': 3}, {'title': 'Trump threatens tariffs on Apple, European Union in trade war ...', 'link': 'https://www.washingtonpost.com/business/2025/05/23/trump-tariffs-eu-trade-war-iphone/', 'snippet': \"Stock markets declined after the president's early-morning threats of 25 percent import taxes on iPhones and 50 percent on goods from Europe ...\", 'position': 4}, {'title': 'Trump threatens 25% tariff on Apple and says Samsung and ... - CNN', 'link': 'https://www.cnn.com/2025/05/23/economy/trump-threatens-tariff-apple', 'snippet': 'An additional 25% tariff on Apple products could result in higher prices for US iPhone buyers. Rumors have already been swirling that Apple is ...', 'position': 5}, {'title': 'Trump tells Apple to manufacture iPhones in U.S. or face tariffs', 'link': 'https://www.youtube.com/watch?v=VzewXStBPD4', 'snippet': 'President Trump warned Apple on Friday that it could face a 25% tariff if it does not start manufacturing iPhones in the U.S. CBS News chief ...', 'position': 6}, {'title': 'Markets close lower after Trump lobs tariff threats at Apple and EU', 'link': 'https://www.cbsnews.com/news/stock-market-lower-tariffs-threats-apple-us-may-23/', 'snippet': 'The markets closed lower Friday after President Trump threatened to impose a 25% tariff on Apple and 50% tariff on the European Union.', 'position': 7}, {'title': 'Trump turns the screws on big companies amid tariff fight - POLITICO', 'link': 'https://www.politico.com/news/2025/05/23/trump-tariffs-apple-walmart-00367595', 'snippet': \"Apple shares fell 2.3 percent following Trump's post, as of Friday afternoon. Cook visited the White House and met with Trump earlier this week, ...\", 'position': 8}, {'title': 'Trump threatens tech giant Apple and European Union with new tariffs', 'link': 'https://www.youtube.com/watch?v=MfuNioQigCY', 'snippet': '... President will dial back his threats against the EU like he did with China is yet to be seen. ABC NEWS provides around the clock coverage of ...', 'position': 9}], 'credits': 1}\u001b[00m\n",
            "\n",
            "\n",
            "\u001b[1m\u001b[95m# Agent:\u001b[00m \u001b[1m\u001b[92mSenior_Research_analyst\u001b[00m\n",
            "\u001b[95m## Thought:\u001b[00m \u001b[92mThought: The search results indicate recent threats by Donald Trump regarding tariffs on Apple and the European Union. I need to gather more detailed information about these threats, their potential impact, and any expert analysis available.\u001b[00m\n",
            "\u001b[95m## Using tool:\u001b[00m \u001b[92mSearch the internet with Serper\u001b[00m\n",
            "\u001b[95m## Tool Input:\u001b[00m \u001b[92m\n",
            "\"{\\\"search_query\\\": \\\"impact of trump tariffs on apple iphone prices\\\"}\"\u001b[00m\n",
            "\u001b[95m## Tool Output:\u001b[00m \u001b[92m\n",
            "{'searchParameters': {'q': 'impact of trump tariffs on apple iphone prices', 'type': 'search', 'num': 10, 'engine': 'google'}, 'organic': [{'title': \"Yes, Trump's New 25% Apple Tariff Could Drive Up iPhone Prices ...\", 'link': 'https://www.cnet.com/personal-finance/taxes/yes-trumps-new-25-apple-tariff-could-drive-up-iphone-prices-even-more-should-you-buy-one-now/', 'snippet': \"We expect iPhone prices to go up, regardless of tariffs. Here's how to decide whether you should make a purchase now or wait.\", 'position': 1}, {'title': 'If Trump gets his way, could iPhones made in the US really cost ...', 'link': 'https://www.usatoday.com/story/money/2025/05/23/iphones-cost-3500-made-in-america-trump/83817681007/', 'snippet': 'Experts agree tariffs and pressure from President Donald Trump to make iPhones in the U.S. will drive prices higher, but disagree on how ...', 'position': 2}, {'title': 'Trump threatens new tariffs on European Union and Apple ... - Reuters', 'link': 'https://www.reuters.com/business/apple-pay-25-tariff-if-phones-not-made-us-trump-says-2025-05-23/', 'snippet': \"Trump threatens 25% tariff on non-US-made iPhones · Proposed tariff on Apple would also apply to Samsung, Trump says · President says, 'I'm not ...\", 'position': 3}, {'title': 'Apple has had few incentives in the past to start making iPhones in US', 'link': 'https://apnews.com/article/trump-tariff-iphone-apple-india-f6a31e6d375d5c87b6e80d9cd15e4b71', 'snippet': 'President Donald Trump is threatening a 50% tax on all imports from the European Union as well a 25% tariff on Apple products unless iPhones are ...', 'position': 4}, {'title': 'Trump threatens 25% tariff on Apple and says Samsung and ... - CNN', 'link': 'https://www.cnn.com/2025/05/23/economy/trump-threatens-tariff-apple', 'snippet': 'An additional 25% tariff on Apple products could result in higher prices for US iPhone buyers. Rumors have already been swirling that Apple is ...', 'position': 5}, {'title': 'How much an Apple iPhone could cost if made in the US', 'link': 'https://www.foxbusiness.com/economy/how-much-apple-iphone-could-cost-made-us', 'snippet': 'Trump warned that if iPhones are not manufactured in the U.S., they will face a duty of at least 25%. APPLE UNVEILS HISTORIC $500B INVESTMENT IN ...', 'position': 6}, {'title': \"How Trump's tariffs would impact iPhones - YouTube\", 'link': 'https://www.youtube.com/watch?v=BIniePerp8I', 'snippet': \"Moffettnathanson Research co-founder and senior analyst Craig Moffett unpacks the stock performance amid tariffs on 'The Claman Countdown.\", 'position': 7}, {'title': \"Apple Stock Falls After Trump Threatens Tariffs on Foreign ... - Barron's\", 'link': 'https://www.barrons.com/articles/apple-stock-price-trump-tariffs-iphones-059710eb', 'snippet': \"The threatened 25% tariff on iPhones manufactured overseas is still likely to be considerably less than the cost of producing 'made in USA' ...\", 'position': 8}, {'title': 'How much will Apple iPhones cost in the U.S if Donald Trump ...', 'link': 'https://m.economictimes.com/news/international/us/how-much-will-apple-iphones-cost-in-the-u-s-if-donald-trump-imposes-25-tariffs-heres-the-breakdown/articleshow/121365530.cms', 'snippet': 'Some experts estimate that shifting all production stateside would increase the price of an iPhone by at least 25%, according to the report.', 'position': 9}], 'peopleAlsoAsk': [{'question': \"Will Trump's tariffs affect iPhone prices?\", 'snippet': \"Some estimates suggest iPhone prices in the US could as much as triple if costs were passed to consumers. Following Trump's tariff increase on China to 125%, the cost for a China-made iPhone 16 Pro Max with 256GB storage would have surged from $1,199 to $1,999, according to estimates by investment banking firm UBS.\", 'title': \"Will iPhones cost more because of Trump's tariffs on China? - BBC\", 'link': 'https://www.bbc.com/news/articles/cx28845z30go'}, {'question': 'How does China tariffs affect Apple?', 'snippet': \"Tariffs could add $900 million to Apple's costs this quarter, Apple CEO Tim Cook said on Thursday, as he revealed the tech giant was shifting production of iPhones sold in the United States from China to India.\", 'title': \"Trump's tariffs could cost Apple $900 million this quarter, CEO Tim Cook ...\", 'link': 'https://www.cnn.com/2025/05/02/tech/china-apple-trump-tariffs-tim-cook-intl-hnk'}, {'question': 'Why iPhones are overpriced?', 'snippet': 'Apple relies on superior hardware components and high-quality materials, leading to hefty price tags. Apple utilizes glass, stainless steel and ceramic in some of the most recent models.', 'title': 'Why are iPhones So Expensive? How to Get One Cheaper', 'link': 'https://www.macofalltrades.com/blog/why-iphones-so-expensive-get-one-cheaper/'}, {'question': 'Will Apple get a tariff exemption?', 'snippet': 'We continue to model a tariff exemption in our base case. Despite short-term bluster from the administration, we expect an investment deal to be reached that avoids blanket iPhone tariffs.', 'title': 'Apple: Latest Tariff Threat Creates Uncertainty, but We See It Primarily ...', 'link': 'https://www.morningstar.com/stocks/apple-latest-tariff-threat-creates-uncertainty-we-see-it-primarily-negotiating-tactic'}], 'credits': 1}\u001b[00m\n",
            "\n",
            "\n",
            "\u001b[1m\u001b[95m# Agent:\u001b[00m \u001b[1m\u001b[92mSenior_Research_analyst\u001b[00m\n",
            "\u001b[95m## Final Answer:\u001b[00m \u001b[92m\n",
            "```\n",
            "## Research Brief: Donald Trump's Proposed Tariffs on Apple\n",
            "\n",
            "**Executive Summary:**\n",
            "\n",
            "In May 2025, Donald Trump threatened to impose tariffs on Apple products manufactured outside the United States, specifically mentioning a potential 25% tariff on iPhones. This threat, along with proposed tariffs on the European Union, has raised concerns about increased iPhone prices, potential shifts in Apple's manufacturing strategy, and overall market volatility. Experts disagree on the extent to which these tariffs would impact iPhone prices, with estimates ranging from a moderate increase to a significant surge. The situation remains dynamic, with the possibility of negotiations and exemptions influencing the final outcome.\n",
            "\n",
            "**1. Recent Developments and News:**\n",
            "\n",
            "*   **Trump's Tariff Threats (May 2025):** Donald Trump has recently threatened to impose a 25% tariff on iPhones and a 50% tariff on goods from the European Union if manufacturing is not brought to the U.S. (Reuters, AP News, CNN, Washington Post).\n",
            "*   **Market Reaction:** Stock markets reacted negatively to these threats, with Apple shares falling following Trump's statements (CBS News, Politico, Barron's).\n",
            "*   **Potential Impact on Samsung:** Trump indicated that the proposed tariffs would also apply to Samsung, suggesting a broader impact on the smartphone industry (Reuters).\n",
            "\n",
            "**2. Key Industry Trends and Innovations:**\n",
            "\n",
            "*   **Apple's Manufacturing Locations:** Apple currently manufactures the majority of its iPhones in China and other countries outside the U.S. (Various sources).\n",
            "*   **Shifting Production to India:** Apple has been gradually shifting some of its iPhone production to India (CNN).\n",
            "*   **\"Made in USA\" iPhones** Experts agree tariffs and pressure from President Donald Trump to make iPhones in the U.S. will drive prices higher (USA Today).\n",
            "\n",
            "**3. Expert Opinions and Analyses:**\n",
            "\n",
            "*   **iPhone Price Increases:** Experts predict that tariffs could lead to higher prices for US iPhone buyers (CNN, CNET, USA Today). Some analysts estimate that shifting all production stateside could increase the price of an iPhone by at least 25% (Economic Times).\n",
            "*   **Impact on Apple's Costs:** Tim Cook, Apple's CEO, stated that tariffs could add $900 million to Apple's costs in a single quarter (CNN).\n",
            "*   **Negotiating Tactic:** Some analysts believe that Trump's tariff threats are primarily a negotiating tactic (Morningstar).\n",
            "\n",
            "**4. Statistical Data and Market Insights:**\n",
            "\n",
            "*   **iPhone Price Estimates:** Estimates suggest that tariffs could increase iPhone prices significantly. For example, UBS estimated that a 125% tariff on a China-made iPhone 16 Pro Max with 256GB storage could increase the price from $1,199 to $1,999 (BBC).\n",
            "*   **Apple's Stock Performance:** Apple's stock price has fluctuated in response to tariff-related news, indicating market sensitivity to these developments (Politico, Barron's).\n",
            "\n",
            "**5. Verified Facts and Statistics:**\n",
            "\n",
            "*   **Tariff Rate:** Trump has threatened a 25% tariff on iPhones not manufactured in the U.S. (Reuters, CNN).\n",
            "*   **Potential Cost Increase:** Some experts estimate that shifting all production stateside would increase the price of an iPhone by at least 25% (Economic Times).\n",
            "*   **Apple's Potential Costs:** Apple's CEO, Tim Cook, stated that tariffs could add $900 million to Apple's costs (CNN).\n",
            "\n",
            "**6. Categorization of Main Themes and Patterns:**\n",
            "\n",
            "*   **Theme 1: Potential for Increased iPhone Prices:** The primary concern is that tariffs will lead to higher prices for US consumers.\n",
            "*   **Theme 2: Manufacturing Shifts:** Apple may need to adjust its manufacturing locations to mitigate the impact of tariffs.\n",
            "*   **Theme 3: Market Volatility:** Tariff threats create uncertainty and volatility in the stock market.\n",
            "*   **Theme 4: Negotiation Strategy:** Trump's threats may be a negotiating tactic to pressure Apple and other companies to shift production to the U.S.\n",
            "\n",
            "**7. Citations and Sources:**\n",
            "\n",
            "*   **AP News:** [https://apnews.com/article/trump-tariff-apple-iphone-tax-170021e8fad22878d0183b5d48971087](https://apnews.com/article/trump-tariff-apple-iphone-tax-170021e8fad22878d0183b5d48971087)\n",
            "*   **Barron's:** [https://www.barrons.com/articles/apple-stock-price-trump-tariffs-iphones-059710eb](https://www.barrons.com/articles/apple-stock-price-trump-tariffs-iphones-059710eb)\n",
            "*   **BBC:** [https://www.bbc.com/news/articles/cx28845z30go](https://www.bbc.com/news/articles/cx28845z30go)\n",
            "*   **CBS News:** [https://www.cbsnews.com/news/stock-market-lower-tariffs-threats-apple-us-may-23/](https://www.cbsnews.com/news/stock-market-lower-tariffs-threats-apple-us-may-23/)\n",
            "*   **Cnet:** [https://www.cnet.com/personal-finance/taxes/yes-trumps-new-25-apple-tariff-could-drive-up-iphone-prices-even-more-should-you-buy-one-now/](https://www.cnet.com/personal-finance/taxes/yes-trumps-new-25-apple-tariff-could-drive-up-iphone-prices-even-more-should-you-buy-one-now/)\n",
            "*   **CNN:** [https://www.cnn.com/2025/05/23/economy/trump-threatens-tariff-apple](https://www.cnn.com/2025/05/23/economy/trump-threatens-tariff-apple) and [https://www.cnn.com/2025/05/02/tech/china-apple-trump-tariffs-tim-cook-intl-hnk](https://www.cnn.com/2025/05/02/tech/china-apple-trump-tariffs-tim-cook-intl-hnk)\n",
            "*   **Economic Times:** [https://m.economictimes.com/news/international/us/how-much-will-apple-iphones-cost-in-the-u-s-if-donald-trump-imposes-25-tariffs-heres-the-breakdown/articleshow/121365530.cms](https://m.economictimes.com/news/international/us/how-much-will-apple-iphones-cost-in-the-u-s-if-donald-trump-imposes-25-tariffs-heres-the-breakdown/articleshow/121365530.cms)\n",
            "*   **Fox Business:** [https://www.foxbusiness.com/economy/how-much-apple-iphone-could-cost-made-us](https://www.foxbusiness.com/economy/how-much-apple-iphone-could-cost-made-us)\n",
            "*   **Morningstar:** [https://www.morningstar.com/stocks/apple-latest-tariff-threat-creates-uncertainty-we-see-it-primarily-negotiating-tactic](https://www.morningstar.com/stocks/apple-latest-tariff-threat-creates-uncertainty-we-see-it-primarily-negotiating-tactic)\n",
            "*   **Politico:** [https://www.politico.com/news/2025/05/23/trump-tariffs-apple-walmart-00367595](https://www.politico.com/news/2025/05/23/trump-tariffs-apple-walmart-00367595)\n",
            "*   **Reuters:** [https://www.reuters.com/business/apple-pay-25-tariff-if-phones-not-made-us-trump-says-2025-05-23/](https://www.reuters.com/business/apple-pay-25-tariff-if-phones-not-made-us-trump-says-2025-05-23/)\n",
            "*   **USA Today:** [https://www.usatoday.com/story/money/2025/05/23/iphones-cost-3500-made-in-america-trump/83817681007/](https://www.usatoday.com/story/money/2025/05/23/iphones-cost-3500-made-in-america-trump/83817681007/)\n",
            "*   **Washington Post:** [https://www.washingtonpost.com/business/2025/05/23/trump-tariffs-eu-trade-war-iphone/](https://www.washingtonpost.com/business/2025/05/23/trump-tariffs-eu-trade-war-iphone/)\n",
            "```\u001b[00m\n",
            "\n",
            "\n",
            "\u001b[1m\u001b[95m# Agent:\u001b[00m \u001b[1m\u001b[92mContent_writer\u001b[00m\n",
            "\u001b[95m## Task:\u001b[00m \u001b[92m\n",
            "    Using the research brief provided, create an engaging blog post that:\n",
            "    1.Transforms technical information into accessible content\n",
            "    2.Maintains all factual accuracy and citations from the research\n",
            "    3.Includes:\n",
            "        - Attention-grabbing introduction\n",
            "        - Well-structured body sections with clear heading\n",
            "        - Compelling conclusion\n",
            "    4.Preserves all source citations in [Source: URL] format\n",
            "    5.Includes a References section at the end\n",
            "    \u001b[00m\n",
            "\n",
            "\n",
            "\u001b[1m\u001b[95m# Agent:\u001b[00m \u001b[1m\u001b[92mContent_writer\u001b[00m\n",
            "\u001b[95m## Final Answer:\u001b[00m \u001b[92m\n",
            "```markdown\n",
            "# Will Trump's Tariff Threats Make Your Next iPhone Cost a Fortune?\n",
            "\n",
            "In May 2025, former President Donald Trump reignited trade war anxieties by threatening to impose significant tariffs on Apple products manufactured outside the United States. Specifically, he mentioned a potential 25% tariff on iPhones, sending ripples through the stock market and sparking debates about the future of Apple's manufacturing strategy [Source: Reuters]. Will these tariffs actually materialize, and if so, how much more will your next iPhone cost? Let's dive into the details.\n",
            "\n",
            "### The Tariff Threat and Market Reaction\n",
            "\n",
            "Trump's tariff threats extended beyond just Apple, with proposed tariffs of 50% on goods from the European Union also causing concern [Source: Reuters, AP News, CNN, Washington Post]. The immediate reaction was palpable, as stock markets responded negatively, with Apple shares experiencing a dip following the announcement [Source: CBS News, Politico, Barron's]. Samsung was also mentioned as potentially being subject to these tariffs, indicating a broadside against the smartphone industry [Source: Reuters].\n",
            "\n",
            "### Apple's Manufacturing Landscape and Potential Shifts\n",
            "\n",
            "Currently, Apple relies heavily on manufacturing in China and other countries outside the U.S. [Source: Various sources]. However, the company has been gradually shifting some of its iPhone production to India, a move that could be accelerated by these potential tariffs [Source: CNN]. The big question is whether Apple could realistically bring a significant portion of its manufacturing back to the United States.\n",
            "\n",
            "### Expert Opinions: Price Hikes and Negotiation Tactics\n",
            "\n",
            "Industry experts largely agree that tariffs would translate to higher prices for US consumers looking to buy iPhones [Source: CNN, CNET, USA Today]. Some analysts estimate that shifting all production to the U.S. could increase the price of an iPhone by at least 25% [Source: Economic Times].\n",
            "\n",
            "Tim Cook, Apple's CEO, has publicly stated that tariffs could add a staggering $900 million to Apple's costs in a single quarter [Source: CNN]. This substantial increase underscores the potential financial impact of such policies.\n",
            "\n",
            "However, some analysts suggest that Trump's tariff threats might primarily be a negotiating tactic [Source: Morningstar]. The aim could be to pressure Apple and other companies to increase manufacturing within the United States.\n",
            "\n",
            "### The Numbers: Potential Price Increases\n",
            "\n",
            "The potential increase in iPhone prices is a major concern for consumers. UBS, for instance, estimated that a 25% tariff on a China-made iPhone 16 Pro Max with 256GB storage could increase the price from $1,199 to $1,999 [Source: BBC]. This represents a significant jump, potentially pricing many consumers out of the market.\n",
            "\n",
            "Apple's stock performance has also been closely monitored, with fluctuations observed in response to tariff-related news, further indicating the market's sensitivity to these developments [Source: Politico, Barron's].\n",
            "\n",
            "### Key Takeaways: Themes and Patterns\n",
            "\n",
            "Several key themes emerge from this situation:\n",
            "\n",
            "*   **Potential for Increased iPhone Prices:** Tariffs are likely to lead to higher prices for US consumers.\n",
            "*   **Manufacturing Shifts:** Apple may need to adjust its manufacturing locations to mitigate tariff impacts.\n",
            "*   **Market Volatility:** Tariff threats create uncertainty and volatility in the stock market.\n",
            "*   **Negotiation Strategy:** Trump's threats may be a tactic to pressure Apple and others to shift production to the U.S.\n",
            "\n",
            "### What's Next?\n",
            "\n",
            "The future remains uncertain. Whether Trump's tariff threats will translate into actual policy remains to be seen. The outcome will likely depend on negotiations and potential exemptions. For consumers, it means keeping a close eye on developments that could significantly impact the cost of their next iPhone.\n",
            "\n",
            "## References\n",
            "\n",
            "*   AP News: [https://apnews.com/article/trump-tariff-apple-iphone-tax-170021e8fad22878d0183b5d48971087](https://apnews.com/article/trump-tariff-apple-iphone-tax-170021e8fad22878d0183b5d48971087)\n",
            "*   Barron's: [https://www.barrons.com/articles/apple-stock-price-trump-tariffs-iphones-059710eb](https://www.barrons.com/articles/apple-stock-price-trump-tariffs-iphones-059710eb)\n",
            "*   BBC: [https://www.bbc.com/news/articles/cx28845z30go](https://www.bbc.com/news/articles/cx28845z30go)\n",
            "*   CBS News: [https://www.cbsnews.com/news/stock-market-lower-tariffs-threats-apple-us-may-23/](https://www.cbsnews.com/news/stock-market-lower-tariffs-threats-apple-us-may-23/)\n",
            "*   Cnet: [https://www.cnet.com/personal-finance/taxes/yes-trumps-new-25-apple-tariff-could-drive-up-iphone-prices-even-more-should-you-buy-one-now/](https://www.cnet.com/personal-finance/taxes/yes-trumps-new-25-apple-tariff-could-drive-up-iphone-prices-even-more-should-you-buy-one-now/)\n",
            "*   CNN: [https://www.cnn.com/2025/05/23/economy/trump-threatens-tariff-apple](https://www.cnn.com/2025/05/23/economy/trump-threatens-tariff-apple) and [https://www.cnn.com/2025/05/02/tech/china-apple-trump-tariffs-tim-cook-intl-hnk](https://www.cnn.com/2025/05/02/tech/china-apple-trump-tariffs-tim-cook-intl-hnk)\n",
            "*   Economic Times: [https://m.economictimes.com/news/international/us/how-much-will-apple-iphones-cost-in-the-u-s-if-donald-trump-imposes-25-tariffs-heres-the-breakdown/articleshow/121365530.cms](https://m.economictimes.com/news/international/us/how-much-will-apple-iphones-cost-in-the-u-s-if-donald-trump-imposes-25-tariffs-heres-the-breakdown/articleshow/121365530.cms)\n",
            "*   Morningstar: [https://www.morningstar.com/stocks/apple-latest-tariff-threat-creates-uncertainty-we-see-it-primarily-negotiating-tactic](https://www.morningstar.com/stocks/apple-latest-tariff-threat-creates-uncertainty-we-see-it-primarily-negotiating-tactic)\n",
            "*   Politico: [https://www.politico.com/news/2025/05/23/trump-tariffs-apple-walmart-00367595](https://www.politico.com/news/2025/05/23/trump-tariffs-apple-walmart-00367595)\n",
            "*   Reuters: [https://www.reuters.com/business/apple-pay-25-tariff-if-phones-not-made-us-trump-says-2025-05-23/](https://www.reuters.com/business/apple-pay-25-tariff-if-phones-not-made-us-trump-says-2025-05-23/)\n",
            "*   USA Today: [https://www.usatoday.com/story/money/2025/05/23/iphones-cost-3500-made-in-america-trump/83817681007/](https://www.usatoday.com/story/money/2025/05/23/iphones-cost-3500-made-in-america-trump/83817681007/)\n",
            "*   Washington Post: [https://www.washingtonpost.com/business/2025/05/23/trump-tariffs-eu-trade-war-iphone/](https://www.washingtonpost.com/business/2025/05/23/trump-tariffs-eu-trade-war-iphone/)\n",
            "```\u001b[00m\n",
            "\n",
            "\n",
            "```markdown\n",
            "# Will Trump's Tariff Threats Make Your Next iPhone Cost a Fortune?\n",
            "\n",
            "In May 2025, former President Donald Trump reignited trade war anxieties by threatening to impose significant tariffs on Apple products manufactured outside the United States. Specifically, he mentioned a potential 25% tariff on iPhones, sending ripples through the stock market and sparking debates about the future of Apple's manufacturing strategy [Source: Reuters]. Will these tariffs actually materialize, and if so, how much more will your next iPhone cost? Let's dive into the details.\n",
            "\n",
            "### The Tariff Threat and Market Reaction\n",
            "\n",
            "Trump's tariff threats extended beyond just Apple, with proposed tariffs of 50% on goods from the European Union also causing concern [Source: Reuters, AP News, CNN, Washington Post]. The immediate reaction was palpable, as stock markets responded negatively, with Apple shares experiencing a dip following the announcement [Source: CBS News, Politico, Barron's]. Samsung was also mentioned as potentially being subject to these tariffs, indicating a broadside against the smartphone industry [Source: Reuters].\n",
            "\n",
            "### Apple's Manufacturing Landscape and Potential Shifts\n",
            "\n",
            "Currently, Apple relies heavily on manufacturing in China and other countries outside the U.S. [Source: Various sources]. However, the company has been gradually shifting some of its iPhone production to India, a move that could be accelerated by these potential tariffs [Source: CNN]. The big question is whether Apple could realistically bring a significant portion of its manufacturing back to the United States.\n",
            "\n",
            "### Expert Opinions: Price Hikes and Negotiation Tactics\n",
            "\n",
            "Industry experts largely agree that tariffs would translate to higher prices for US consumers looking to buy iPhones [Source: CNN, CNET, USA Today]. Some analysts estimate that shifting all production to the U.S. could increase the price of an iPhone by at least 25% [Source: Economic Times].\n",
            "\n",
            "Tim Cook, Apple's CEO, has publicly stated that tariffs could add a staggering $900 million to Apple's costs in a single quarter [Source: CNN]. This substantial increase underscores the potential financial impact of such policies.\n",
            "\n",
            "However, some analysts suggest that Trump's tariff threats might primarily be a negotiating tactic [Source: Morningstar]. The aim could be to pressure Apple and other companies to increase manufacturing within the United States.\n",
            "\n",
            "### The Numbers: Potential Price Increases\n",
            "\n",
            "The potential increase in iPhone prices is a major concern for consumers. UBS, for instance, estimated that a 25% tariff on a China-made iPhone 16 Pro Max with 256GB storage could increase the price from $1,199 to $1,999 [Source: BBC]. This represents a significant jump, potentially pricing many consumers out of the market.\n",
            "\n",
            "Apple's stock performance has also been closely monitored, with fluctuations observed in response to tariff-related news, further indicating the market's sensitivity to these developments [Source: Politico, Barron's].\n",
            "\n",
            "### Key Takeaways: Themes and Patterns\n",
            "\n",
            "Several key themes emerge from this situation:\n",
            "\n",
            "*   **Potential for Increased iPhone Prices:** Tariffs are likely to lead to higher prices for US consumers.\n",
            "*   **Manufacturing Shifts:** Apple may need to adjust its manufacturing locations to mitigate tariff impacts.\n",
            "*   **Market Volatility:** Tariff threats create uncertainty and volatility in the stock market.\n",
            "*   **Negotiation Strategy:** Trump's threats may be a tactic to pressure Apple and others to shift production to the U.S.\n",
            "\n",
            "### What's Next?\n",
            "\n",
            "The future remains uncertain. Whether Trump's tariff threats will translate into actual policy remains to be seen. The outcome will likely depend on negotiations and potential exemptions. For consumers, it means keeping a close eye on developments that could significantly impact the cost of their next iPhone.\n",
            "\n",
            "## References\n",
            "\n",
            "*   AP News: [https://apnews.com/article/trump-tariff-apple-iphone-tax-170021e8fad22878d0183b5d48971087](https://apnews.com/article/trump-tariff-apple-iphone-tax-170021e8fad22878d0183b5d48971087)\n",
            "*   Barron's: [https://www.barrons.com/articles/apple-stock-price-trump-tariffs-iphones-059710eb](https://www.barrons.com/articles/apple-stock-price-trump-tariffs-iphones-059710eb)\n",
            "*   BBC: [https://www.bbc.com/news/articles/cx28845z30go](https://www.bbc.com/news/articles/cx28845z30go)\n",
            "*   CBS News: [https://www.cbsnews.com/news/stock-market-lower-tariffs-threats-apple-us-may-23/](https://www.cbsnews.com/news/stock-market-lower-tariffs-threats-apple-us-may-23/)\n",
            "*   Cnet: [https://www.cnet.com/personal-finance/taxes/yes-trumps-new-25-apple-tariff-could-drive-up-iphone-prices-even-more-should-you-buy-one-now/](https://www.cnet.com/personal-finance/taxes/yes-trumps-new-25-apple-tariff-could-drive-up-iphone-prices-even-more-should-you-buy-one-now/)\n",
            "*   CNN: [https://www.cnn.com/2025/05/23/economy/trump-threatens-tariff-apple](https://www.cnn.com/2025/05/23/economy/trump-threatens-tariff-apple) and [https://www.cnn.com/2025/05/02/tech/china-apple-trump-tariffs-tim-cook-intl-hnk](https://www.cnn.com/2025/05/02/tech/china-apple-trump-tariffs-tim-cook-intl-hnk)\n",
            "*   Economic Times: [https://m.economictimes.com/news/international/us/how-much-will-apple-iphones-cost-in-the-u-s-if-donald-trump-imposes-25-tariffs-heres-the-breakdown/articleshow/121365530.cms](https://m.economictimes.com/news/international/us/how-much-will-apple-iphones-cost-in-the-u-s-if-donald-trump-imposes-25-tariffs-heres-the-breakdown/articleshow/121365530.cms)\n",
            "*   Morningstar: [https://www.morningstar.com/stocks/apple-latest-tariff-threat-creates-uncertainty-we-see-it-primarily-negotiating-tactic](https://www.morningstar.com/stocks/apple-latest-tariff-threat-creates-uncertainty-we-see-it-primarily-negotiating-tactic)\n",
            "*   Politico: [https://www.politico.com/news/2025/05/23/trump-tariffs-apple-walmart-00367595](https://www.politico.com/news/2025/05/23/trump-tariffs-apple-walmart-00367595)\n",
            "*   Reuters: [https://www.reuters.com/business/apple-pay-25-tariff-if-phones-not-made-us-trump-says-2025-05-23/](https://www.reuters.com/business/apple-pay-25-tariff-if-phones-not-made-us-trump-says-2025-05-23/)\n",
            "*   USA Today: [https://www.usatoday.com/story/money/2025/05/23/iphones-cost-3500-made-in-america-trump/83817681007/](https://www.usatoday.com/story/money/2025/05/23/iphones-cost-3500-made-in-america-trump/83817681007/)\n",
            "*   Washington Post: [https://www.washingtonpost.com/business/2025/05/23/trump-tariffs-eu-trade-war-iphone/](https://www.washingtonpost.com/business/2025/05/23/trump-tariffs-eu-trade-war-iphone/)\n",
            "```\n"
          ]
        }
      ]
    },
    {
      "cell_type": "code",
      "source": [],
      "metadata": {
        "id": "XKLeMbftglIS"
      },
      "execution_count": null,
      "outputs": []
    },
    {
      "cell_type": "code",
      "source": [],
      "metadata": {
        "id": "sr_aRclPglMb"
      },
      "execution_count": null,
      "outputs": []
    },
    {
      "cell_type": "code",
      "source": [],
      "metadata": {
        "id": "8cqEN-olglP5"
      },
      "execution_count": null,
      "outputs": []
    },
    {
      "cell_type": "code",
      "source": [],
      "metadata": {
        "id": "yQ5dBHALglSo"
      },
      "execution_count": null,
      "outputs": []
    },
    {
      "cell_type": "code",
      "source": [],
      "metadata": {
        "id": "pXP4qsXlglYR"
      },
      "execution_count": null,
      "outputs": []
    },
    {
      "cell_type": "code",
      "source": [],
      "metadata": {
        "id": "M6GmuizrglZ8"
      },
      "execution_count": null,
      "outputs": []
    },
    {
      "cell_type": "code",
      "source": [],
      "metadata": {
        "id": "oUxnDAkNglep"
      },
      "execution_count": null,
      "outputs": []
    },
    {
      "cell_type": "code",
      "source": [],
      "metadata": {
        "id": "va4POLmxglg2"
      },
      "execution_count": null,
      "outputs": []
    },
    {
      "cell_type": "code",
      "source": [],
      "metadata": {
        "id": "jpigzvTagljy"
      },
      "execution_count": null,
      "outputs": []
    },
    {
      "cell_type": "code",
      "source": [],
      "metadata": {
        "id": "Myph6X0TgllQ"
      },
      "execution_count": null,
      "outputs": []
    },
    {
      "cell_type": "code",
      "source": [],
      "metadata": {
        "id": "7f3tf_pHgln2"
      },
      "execution_count": null,
      "outputs": []
    },
    {
      "cell_type": "code",
      "source": [],
      "metadata": {
        "id": "6689LrxQglqL"
      },
      "execution_count": null,
      "outputs": []
    },
    {
      "cell_type": "code",
      "source": [],
      "metadata": {
        "id": "hes7ieYsgltH"
      },
      "execution_count": null,
      "outputs": []
    },
    {
      "cell_type": "code",
      "source": [],
      "metadata": {
        "id": "VH8S6PJGglvZ"
      },
      "execution_count": null,
      "outputs": []
    },
    {
      "cell_type": "code",
      "source": [],
      "metadata": {
        "id": "6mZo16gjglyI"
      },
      "execution_count": null,
      "outputs": []
    },
    {
      "cell_type": "code",
      "source": [],
      "metadata": {
        "id": "2x9z51hqSGxA"
      },
      "execution_count": null,
      "outputs": []
    },
    {
      "cell_type": "code",
      "source": [],
      "metadata": {
        "id": "jul8i__KSG1T"
      },
      "execution_count": null,
      "outputs": []
    },
    {
      "cell_type": "code",
      "source": [],
      "metadata": {
        "id": "TMqkBI8qSG4A"
      },
      "execution_count": null,
      "outputs": []
    }
  ]
}